{
  "nbformat": 4,
  "nbformat_minor": 0,
  "metadata": {
    "colab": {
      "name": "P4DS4D; 05; Dataset Load.ipynb",
      "provenance": [],
      "authorship_tag": "ABX9TyPT+WXLoDO2vihwlWbRvyPD",
      "include_colab_link": true
    },
    "kernelspec": {
      "name": "python3",
      "display_name": "Python 3"
    }
  },
  "cells": [
    {
      "cell_type": "markdown",
      "metadata": {
        "id": "view-in-github",
        "colab_type": "text"
      },
      "source": [
        "<a href=\"https://colab.research.google.com/github/aomiglionni/datascience_python/blob/master/P4DS4D%3B_05%3B_Dataset_Load.ipynb\" target=\"_parent\"><img src=\"https://colab.research.google.com/assets/colab-badge.svg\" alt=\"Open In Colab\"/></a>"
      ]
    },
    {
      "cell_type": "code",
      "metadata": {
        "id": "3mtE7Tl65O-x",
        "colab_type": "code",
        "colab": {}
      },
      "source": [
        "with open(\"Colors.txt\",'rb') as\n",
        "open_file:\n",
        "  print 'Colors.txt content:\\n' +\n",
        "open_file.read()"
      ],
      "execution_count": null,
      "outputs": []
    },
    {
      "cell_type": "code",
      "metadata": {
        "id": "ughUUeDL5_s3",
        "colab_type": "code",
        "colab": {}
      },
      "source": [
        "with open(\"Colors.txt\",'rb') as\n",
        "open_file:\n",
        "  for observation in open_file:\n",
        "    print 'Reading Data: ' +\n",
        "observation\n"
      ],
      "execution_count": null,
      "outputs": []
    },
    {
      "cell_type": "markdown",
      "metadata": {
        "id": "NbI8F-LB6Vbi",
        "colab_type": "text"
      },
      "source": [
        "SLIDE 22"
      ]
    },
    {
      "cell_type": "code",
      "metadata": {
        "id": "wjJFoJVn6JMM",
        "colab_type": "code",
        "colab": {}
      },
      "source": [
        "n = 2\n",
        "with open(\"Colors.txt\" 'rb') as\n",
        "open_file:\n",
        "  for j, observation in\n",
        "enumerate(open_file):\n",
        "  if j % n==0:\n",
        "    print('Reading Line: ' +\n",
        "str(j) +\n",
        "    ' Content: ' + observation)\n"
      ],
      "execution_count": null,
      "outputs": []
    },
    {
      "cell_type": "markdown",
      "metadata": {
        "id": "79Ti2M7-6bT-",
        "colab_type": "text"
      },
      "source": [
        "SLIDE 24"
      ]
    },
    {
      "cell_type": "code",
      "metadata": {
        "id": "vLLQaDvi6cC2",
        "colab_type": "code",
        "colab": {}
      },
      "source": [
        "from random import random\n",
        "sample_size = 0.25\n",
        "with open(\"Colors.txt\",'rb') as\n",
        "open_file:\n",
        "  for j, observation in\n",
        "enumerate(open_file):\n",
        "  if random()<=sample_size:\n",
        "    print('Reading Line: ' +\n",
        "str(j) +\n",
        "    ' Content: ' + observation)\n"
      ],
      "execution_count": null,
      "outputs": []
    },
    {
      "cell_type": "markdown",
      "metadata": {
        "id": "k5LnGSZX6lm8",
        "colab_type": "text"
      },
      "source": [
        "SLIDE 32"
      ]
    },
    {
      "cell_type": "code",
      "metadata": {
        "id": "fMQj09ft6mbs",
        "colab_type": "code",
        "colab": {}
      },
      "source": [
        "import pandas as pd\n",
        "color_table =\n",
        "pd.io.parsers.read_table(\"Colors.txt\")\n",
        "print color_table"
      ],
      "execution_count": null,
      "outputs": []
    },
    {
      "cell_type": "markdown",
      "metadata": {
        "id": "mPdTRB337JuG",
        "colab_type": "text"
      },
      "source": [
        "SLIDE 39"
      ]
    },
    {
      "cell_type": "code",
      "metadata": {
        "id": "ZfUT29vI7Klm",
        "colab_type": "code",
        "colab": {}
      },
      "source": [
        "import pandas as pd\n",
        "titanic =\n",
        "pd.io.parsers.read_csv(\"Titanic.csv\")\n",
        "X = titanic[['age']]\n",
        "print X"
      ],
      "execution_count": null,
      "outputs": []
    },
    {
      "cell_type": "markdown",
      "metadata": {
        "id": "GvL2N8CQ7nyX",
        "colab_type": "text"
      },
      "source": [
        "SLIDE 43"
      ]
    },
    {
      "cell_type": "code",
      "metadata": {
        "id": "pbt8QGqn7o4n",
        "colab_type": "code",
        "colab": {}
      },
      "source": [
        "import pandas as pd\n",
        "xls = pd.ExcelFile(\"Values.xls\")\n",
        "trig_values = xls.parse('Sheet1',\n",
        "index_col=None, na_values=['NA'])\n",
        "print trig_values"
      ],
      "execution_count": null,
      "outputs": []
    },
    {
      "cell_type": "markdown",
      "metadata": {
        "id": "eRLBnnmc8OI1",
        "colab_type": "text"
      },
      "source": [
        "SLIDE 47"
      ]
    },
    {
      "cell_type": "code",
      "metadata": {
        "id": "8zd1k4nO8PMF",
        "colab_type": "code",
        "colab": {}
      },
      "source": [
        "from skimage.io import imread\n",
        "from skimage.transform import resize\n",
        "from matplotlib import pyplot as plt\n",
        "import matplotlib.cm as cm\n",
        "example_file =\n",
        "(\"http://upload.wikimedia.org/\" +\n",
        "\"wikipedia/commons/7/7d/Dog_face.png\")\n",
        "image = imread(example_file, as_grey=True)\n",
        "plt.imshow(image, cmap=cm.gray)\n",
        "plt.show()"
      ],
      "execution_count": null,
      "outputs": []
    },
    {
      "cell_type": "markdown",
      "metadata": {
        "id": "gq3Dkc-Z9RZs",
        "colab_type": "text"
      },
      "source": [
        "SLIDE 63"
      ]
    },
    {
      "cell_type": "code",
      "metadata": {
        "id": "r3CAj_ux9Td5",
        "colab_type": "code",
        "colab": {}
      },
      "source": [
        "import pymongo\n",
        "import pandas as pd\n",
        "from pymongo import Connection\n",
        "connection = Connection()\n",
        "db = connection.database_name\n",
        "input_data = db.collection_name\n",
        "data =\n",
        "pd.DataFrame(list(input_data.find()))"
      ],
      "execution_count": null,
      "outputs": []
    }
  ]
}