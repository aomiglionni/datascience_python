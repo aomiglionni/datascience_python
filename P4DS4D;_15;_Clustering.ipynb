{
  "nbformat": 4,
  "nbformat_minor": 0,
  "metadata": {
    "colab": {
      "name": "P4DS4D; 15; Clustering.ipynb",
      "provenance": [],
      "collapsed_sections": [],
      "authorship_tag": "ABX9TyMGXlcorez0UZX1NsCDx3eC",
      "include_colab_link": true
    },
    "kernelspec": {
      "name": "python3",
      "display_name": "Python 3"
    }
  },
  "cells": [
    {
      "cell_type": "markdown",
      "metadata": {
        "id": "view-in-github",
        "colab_type": "text"
      },
      "source": [
        "<a href=\"https://colab.research.google.com/github/aomiglionni/datascience_python/blob/master/P4DS4D%3B_15%3B_Clustering.ipynb\" target=\"_parent\"><img src=\"https://colab.research.google.com/assets/colab-badge.svg\" alt=\"Open In Colab\"/></a>"
      ]
    },
    {
      "cell_type": "markdown",
      "metadata": {
        "id": "eSWmJDN_gCea",
        "colab_type": "text"
      },
      "source": [
        "SLIDE 19"
      ]
    },
    {
      "cell_type": "code",
      "metadata": {
        "id": "uJK9dkxwfmPf",
        "colab_type": "code",
        "colab": {}
      },
      "source": [
        "import numpy as np\n",
        "A = np.array([165, 50, 22])\n",
        "B = np.array([185, 80, 21])"
      ],
      "execution_count": null,
      "outputs": []
    },
    {
      "cell_type": "markdown",
      "metadata": {
        "id": "tHPS5MjhgLIn",
        "colab_type": "text"
      },
      "source": [
        "SLIDE 20"
      ]
    },
    {
      "cell_type": "code",
      "metadata": {
        "id": "o_dJB7P9gL1O",
        "colab_type": "code",
        "colab": {
          "base_uri": "https://localhost:8080/",
          "height": 34
        },
        "outputId": "700853ea-0151-4527-9db9-e5a583591a4a"
      },
      "source": [
        "D = (A-B)\n",
        "D = D**2\n",
        "D = np.sqrt(np.sum(D))\n",
        "print (D)"
      ],
      "execution_count": null,
      "outputs": [
        {
          "output_type": "stream",
          "text": [
            "36.069377593742864\n"
          ],
          "name": "stdout"
        }
      ]
    },
    {
      "cell_type": "markdown",
      "metadata": {
        "id": "MIiXZSHdgZUt",
        "colab_type": "text"
      },
      "source": [
        "SLIDE 24"
      ]
    },
    {
      "cell_type": "code",
      "metadata": {
        "id": "tTsIrHCNgaGW",
        "colab_type": "code",
        "colab": {}
      },
      "source": [
        "from sklearn.datasets import load_digits\n",
        "digits = load_digits()\n",
        "X = digits.data\n",
        "ground_truth = digits.target"
      ],
      "execution_count": null,
      "outputs": []
    },
    {
      "cell_type": "markdown",
      "metadata": {
        "id": "uQjYyWg-gdtY",
        "colab_type": "text"
      },
      "source": [
        "SLIDE 25"
      ]
    },
    {
      "cell_type": "code",
      "metadata": {
        "id": "1TXhMrrcgfSo",
        "colab_type": "code",
        "colab": {
          "base_uri": "https://localhost:8080/",
          "height": 51
        },
        "outputId": "d44cc887-3f85-4f69-e63a-bd750f405186"
      },
      "source": [
        "from sklearn.decomposition import PCA\n",
        "from sklearn.preprocessing import scale\n",
        "pca = PCA(n_components=40)\n",
        "Cx = pca.fit_transform(scale(X))\n",
        "print ('Explained variance %0.3f')\n",
        "% sum(pca.explained_variance_ratio_)"
      ],
      "execution_count": null,
      "outputs": [
        {
          "output_type": "stream",
          "text": [
            "Explained variance %0.3f\n"
          ],
          "name": "stdout"
        },
        {
          "output_type": "stream",
          "text": [
            "UsageError: Line magic function `%sum` not found.\n"
          ],
          "name": "stderr"
        }
      ]
    },
    {
      "cell_type": "markdown",
      "metadata": {
        "id": "RKssKrpIgtJZ",
        "colab_type": "text"
      },
      "source": [
        "SLIDE 27"
      ]
    },
    {
      "cell_type": "code",
      "metadata": {
        "id": "5OgR2Nvcgt1x",
        "colab_type": "code",
        "colab": {
          "base_uri": "https://localhost:8080/",
          "height": 68
        },
        "outputId": "1860cab1-f57d-42f0-fdb2-6457004a9324"
      },
      "source": [
        "from sklearn.cluster import KMeans\n",
        "clustering = KMeans(n_clusters=10, n_init=10,\n",
        " \trandom_state=1)\n",
        "clustering.fit(Cx)"
      ],
      "execution_count": null,
      "outputs": [
        {
          "output_type": "execute_result",
          "data": {
            "text/plain": [
              "KMeans(algorithm='auto', copy_x=True, init='k-means++', max_iter=300,\n",
              "       n_clusters=10, n_init=10, n_jobs=None, precompute_distances='auto',\n",
              "       random_state=1, tol=0.0001, verbose=0)"
            ]
          },
          "metadata": {
            "tags": []
          },
          "execution_count": 9
        }
      ]
    },
    {
      "cell_type": "markdown",
      "metadata": {
        "id": "ot1_Oa88gycy",
        "colab_type": "text"
      },
      "source": [
        "SLIDE 28"
      ]
    },
    {
      "cell_type": "code",
      "metadata": {
        "id": "AX1UTGisgzXN",
        "colab_type": "code",
        "colab": {}
      },
      "source": [
        "import numpy as np\n",
        "import pandas as pd\n",
        "ms = np.column_stack((ground_truth,clustering.labels_))\n",
        "df = pd.DataFrame(ms,columns = ['Ground truth', 'Clusters'])\n",
        "pd.crosstab(df['Ground truth'], df['Clusters'], margins=True)"
      ],
      "execution_count": null,
      "outputs": []
    },
    {
      "cell_type": "markdown",
      "metadata": {
        "id": "xNzgLQaLhHee",
        "colab_type": "text"
      },
      "source": [
        "SLIDE 32"
      ]
    },
    {
      "cell_type": "code",
      "metadata": {
        "id": "H_1jGhjghIWn",
        "colab_type": "code",
        "colab": {}
      },
      "source": [
        "import matplotlib.pyplot as plt\n",
        "for k, img in\n",
        "  enumerate(np.argmin(dist,axis=0)):\n",
        "    cluster = clustering.labels_[img]\n",
        "    plt.subplot(2, 5, cluster)\n",
        "    plt.imshow(digits.images[img],cmap='binary', interpolation='none')\n",
        "    plt.title('cl '+str(cluster))\n",
        "\n",
        "plt.show()"
      ],
      "execution_count": null,
      "outputs": []
    },
    {
      "cell_type": "markdown",
      "metadata": {
        "id": "aJkGIOhAhoIo",
        "colab_type": "text"
      },
      "source": [
        "SLIDE 36"
      ]
    },
    {
      "cell_type": "code",
      "metadata": {
        "id": "cVZzU2kAhoxx",
        "colab_type": "code",
        "colab": {}
      },
      "source": [
        "inertia = list()\n",
        "delta_inertia = list()\n",
        "for k in range(1,21):\n",
        "  clustering = KMeans(n_clusters=k, n_init=10, random_state=1)\n",
        "  clustering.fit(Cx)\n",
        "    if inertia: # So we won't compare the\n",
        "      solution k==1\n",
        "      delta_inertia.append(inertia[-1] - clustering.inertia_)\n",
        "      inertia.append(clustering.inertia_)"
      ],
      "execution_count": null,
      "outputs": []
    },
    {
      "cell_type": "markdown",
      "metadata": {
        "id": "10XjBionh1w8",
        "colab_type": "text"
      },
      "source": [
        "SLIDE 37"
      ]
    },
    {
      "cell_type": "code",
      "metadata": {
        "id": "hNFJgxsOh3Vl",
        "colab_type": "code",
        "colab": {}
      },
      "source": [
        "import matplotlib.pyplot as plt\n",
        "plt.figure()\n",
        "plt.plot([k for k in range(2,21)],\n",
        "delta_inertia, 'ko-')\n",
        "plt.xlabel('Number of clusters')\n",
        "plt.ylabel('Rate of change of inertia')\n",
        "\n",
        "plt.show()"
      ],
      "execution_count": null,
      "outputs": []
    },
    {
      "cell_type": "markdown",
      "metadata": {
        "id": "8xsuZJghiX-Z",
        "colab_type": "text"
      },
      "source": [
        "SLIDE 43"
      ]
    },
    {
      "cell_type": "code",
      "metadata": {
        "id": "mYjx32KViYrP",
        "colab_type": "code",
        "colab": {}
      },
      "source": [
        "from sklearn.cluster import MiniBatchKMeans\n",
        "batch_clustering = MiniBatchKMeans(n_clusters=10, random_state=1)\n",
        "batch = 100\n",
        "guessed_labels = list()\n",
        "inertia = 0\n",
        "for row in range(0,len(Cx),batch):\n",
        "  if row+batch < len(Cx):\n",
        "    feed = Cx[row:row+batch,:]\n",
        "    else:\n",
        "      feed = Cx[row:,:]\n",
        "batch_clustering.partial_fit(feed)\n",
        "\n",
        "# We have to stack results in a list, because\n",
        "# MiniBatchKMean does not take track of all the\n",
        "# batches \n",
        "guessed_labels.append(batch_clustering\n",
        ".labels_)\n",
        "inertia += batch_clustering.inertia_\n",
        "# NumPy hstack turns a list of arrays into an array\n",
        "# by inspecting the variable guess_labels you can know\n",
        "# the assigned cluster\n",
        "guessed_labels = np.hstack(guessed_labels)\n",
        "print \"Kmeans inertia: %0.1f\\n\" + \"MiniBatchKmeans inertia: %0.1f\"\n",
        "% (clustering.inertia_,inertia)"
      ],
      "execution_count": null,
      "outputs": []
    },
    {
      "cell_type": "markdown",
      "metadata": {
        "id": "WJOT-0cPjMTD",
        "colab_type": "text"
      },
      "source": [
        "SLIDE 49"
      ]
    },
    {
      "cell_type": "code",
      "metadata": {
        "id": "2DxoLSwQjNEu",
        "colab_type": "code",
        "colab": {}
      },
      "source": [
        "from sklearn.cluster import AgglomerativeClustering\n",
        "# Affinity = {\"euclidean\",l1\",\"l2\",\"manhattan\",\n",
        "# \"cosine\"}\n",
        "# Linkage = {\"ward\",\"complete\", \"average\"}\n",
        "Hclustering = AgglomerativeClustering(n_clusters=10,\n",
        "affinity='euclidean', linkage='ward')\n",
        "Hclustering.fit(Cx)\n",
        "ms = np.column_stack((ground_truth,Hclustering.labels_))\n",
        "df = pd.DataFrame(ms, columns = ['Ground truth', 'Clusters'])\n",
        "pd.crosstab(df['Ground truth'], df['Clusters'], margins=True)"
      ],
      "execution_count": null,
      "outputs": []
    },
    {
      "cell_type": "markdown",
      "metadata": {
        "id": "0hnGtTvhjkrU",
        "colab_type": "text"
      },
      "source": [
        "SLIDE 51"
      ]
    },
    {
      "cell_type": "code",
      "metadata": {
        "id": "18874VIkjlcd",
        "colab_type": "code",
        "colab": {
          "base_uri": "https://localhost:8080/",
          "height": 68
        },
        "outputId": "2f211c44-589b-4e86-a9bc-edf11f24d416"
      },
      "source": [
        "from sklearn.cluster import KMeans\n",
        "clustering = KMeans(n_clusters=100, n_init=10, random_state=1)\n",
        "clustering.fit(Cx)"
      ],
      "execution_count": null,
      "outputs": [
        {
          "output_type": "execute_result",
          "data": {
            "text/plain": [
              "KMeans(algorithm='auto', copy_x=True, init='k-means++', max_iter=300,\n",
              "       n_clusters=100, n_init=10, n_jobs=None, precompute_distances='auto',\n",
              "       random_state=1, tol=0.0001, verbose=0)"
            ]
          },
          "metadata": {
            "tags": []
          },
          "execution_count": 19
        }
      ]
    },
    {
      "cell_type": "markdown",
      "metadata": {
        "id": "yHnQ2ZrOjtvP",
        "colab_type": "text"
      },
      "source": [
        "SLIDE 52"
      ]
    },
    {
      "cell_type": "code",
      "metadata": {
        "id": "SavH_5KSjufw",
        "colab_type": "code",
        "colab": {}
      },
      "source": [
        "Kx = clustering.cluster_centers_\n",
        "Kx_mapping = {case:cluster for case,\n",
        "cluster in enumerate(clustering.labels_)}"
      ],
      "execution_count": null,
      "outputs": []
    },
    {
      "cell_type": "markdown",
      "metadata": {
        "id": "TH--9Fhdjy4M",
        "colab_type": "text"
      },
      "source": [
        "SLIDE 53"
      ]
    },
    {
      "cell_type": "code",
      "metadata": {
        "id": "lfxd7W79jz8D",
        "colab_type": "code",
        "colab": {
          "base_uri": "https://localhost:8080/",
          "height": 68
        },
        "outputId": "17d77871-1fd3-440d-bec9-39990757c7f9"
      },
      "source": [
        "from sklearn.cluster import AgglomerativeClustering\n",
        "Hclustering = AgglomerativeClustering(n_clusters=10,\n",
        "affinity='cosine', linkage='complete')\n",
        "Hclustering.fit(Kx)"
      ],
      "execution_count": null,
      "outputs": [
        {
          "output_type": "execute_result",
          "data": {
            "text/plain": [
              "AgglomerativeClustering(affinity='cosine', compute_full_tree='auto',\n",
              "                        connectivity=None, distance_threshold=None,\n",
              "                        linkage='complete', memory=None, n_clusters=10)"
            ]
          },
          "metadata": {
            "tags": []
          },
          "execution_count": 22
        }
      ]
    },
    {
      "cell_type": "markdown",
      "metadata": {
        "id": "XbpN5XeUj-lo",
        "colab_type": "text"
      },
      "source": [
        "SLIDE 55"
      ]
    },
    {
      "cell_type": "code",
      "metadata": {
        "id": "5QUGZ0tNj_Vx",
        "colab_type": "code",
        "colab": {}
      },
      "source": [
        "ms = np.column_stack((ground_truth, [final_mapping[n] \n",
        "for n in\n",
        "  range(max(final_mapping)+1)]))\n",
        "  df = pd.DataFrame(ms, columns = ['Ground truth','Clusters'])\n",
        "pd.crosstab(df['Ground truth'], df['Clusters'],margins=True)"
      ],
      "execution_count": null,
      "outputs": []
    },
    {
      "cell_type": "markdown",
      "metadata": {
        "id": "cUM0hcSPkqVR",
        "colab_type": "text"
      },
      "source": [
        "SLIDE 64"
      ]
    },
    {
      "cell_type": "code",
      "metadata": {
        "id": "nvx-usVpkrTe",
        "colab_type": "code",
        "colab": {}
      },
      "source": [
        "from collections import Counter\n",
        "print (Counter(DB.labels_))\n",
        "#Counter({-1: 913, 4: 222, 1: 176, 3: 162, 0: 134, 2: 104, 5: 86})"
      ],
      "execution_count": null,
      "outputs": []
    },
    {
      "cell_type": "markdown",
      "metadata": {
        "id": "sFEPdDwXk2Wv",
        "colab_type": "text"
      },
      "source": [
        "SLIDE 66"
      ]
    },
    {
      "cell_type": "code",
      "metadata": {
        "id": "Mg3kFu25k3If",
        "colab_type": "code",
        "colab": {}
      },
      "source": [
        "import matplotlib.pyplot as plt\n",
        "for k,cl in enumerate(np.unique(DB.labels_)):\n",
        "if cl >= 0:\n",
        "  example = np.min(np.where(DB.labels_==cl))\n",
        "  plt.subplot(2, 3, k)\n",
        "  plt.imshow(digits.images[example],\n",
        "cmap='binary',interpolation='none')\n",
        "plt.title('cl '+str(cl))\n",
        "\n",
        "plt.show()\n",
        "\n",
        "ms = np.column_stack((ground_truth,DB.labels_))\n",
        "df = pd.DataFrame(ms,\n",
        "columns = ['Ground truth','Clusters'])\n",
        "pd.crosstab(df['Ground truth'], df['Clusters'], margins=True)"
      ],
      "execution_count": null,
      "outputs": []
    }
  ]
}