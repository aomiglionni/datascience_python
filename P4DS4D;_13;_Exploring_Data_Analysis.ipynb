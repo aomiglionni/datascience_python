{
  "nbformat": 4,
  "nbformat_minor": 0,
  "metadata": {
    "colab": {
      "name": "P4DS4D; 13; Exploring Data Analysis.ipynb",
      "provenance": [],
      "collapsed_sections": [],
      "authorship_tag": "ABX9TyM9BLxLqeyzrqfHVW/WnHyL",
      "include_colab_link": true
    },
    "kernelspec": {
      "name": "python3",
      "display_name": "Python 3"
    }
  },
  "cells": [
    {
      "cell_type": "markdown",
      "metadata": {
        "id": "view-in-github",
        "colab_type": "text"
      },
      "source": [
        "<a href=\"https://colab.research.google.com/github/aomiglionni/datascience_python/blob/master/P4DS4D%3B_13%3B_Exploring_Data_Analysis.ipynb\" target=\"_parent\"><img src=\"https://colab.research.google.com/assets/colab-badge.svg\" alt=\"Open In Colab\"/></a>"
      ]
    },
    {
      "cell_type": "markdown",
      "metadata": {
        "id": "GGOl14hvtQbd",
        "colab_type": "text"
      },
      "source": [
        "SLIDE 16"
      ]
    },
    {
      "cell_type": "code",
      "metadata": {
        "id": "IqwKZWNptR1I",
        "colab_type": "code",
        "colab": {}
      },
      "source": [
        "from sklearn.datasets import load_iris\n",
        "iris = load_iris()"
      ],
      "execution_count": null,
      "outputs": []
    },
    {
      "cell_type": "code",
      "metadata": {
        "id": "F8--G4l5suWX",
        "colab_type": "code",
        "colab": {}
      },
      "source": [
        "import pandas as pd\n",
        "import numpy as np\n",
        "print ('Your pandas version is: %s')\n",
        "       %pd.__version__\n",
        "print ('Your NumPy version is %s') \n",
        "%np.__version__\n",
        "iris_nparray = iris.data\n",
        "iris_dataframe = pd.DataFrame(iris.data,\n",
        "columns=iris.feature_names)\n",
        "iris_dataframe['group'] =\n",
        "pd.Series([iris.target_names[k] for k in\n",
        "iris.target],\n",
        "dtype=\"category\")"
      ],
      "execution_count": null,
      "outputs": []
    },
    {
      "cell_type": "markdown",
      "metadata": {
        "id": "sMRR4UmXuMka",
        "colab_type": "text"
      },
      "source": [
        "SLIDE 20"
      ]
    },
    {
      "cell_type": "code",
      "metadata": {
        "id": "GeQ7VZK7uNMj",
        "colab_type": "code",
        "colab": {}
      },
      "source": [
        "print (iris_dataframe.mean(numeric_only=True))"
      ],
      "execution_count": null,
      "outputs": []
    },
    {
      "cell_type": "markdown",
      "metadata": {
        "id": "ulNVIjASuX-w",
        "colab_type": "text"
      },
      "source": [
        "SLIDE 21"
      ]
    },
    {
      "cell_type": "code",
      "metadata": {
        "id": "N03p6hUBuYhA",
        "colab_type": "code",
        "colab": {}
      },
      "source": [
        "print (iris_dataframe.median(numeric_only=True))\n"
      ],
      "execution_count": null,
      "outputs": []
    },
    {
      "cell_type": "markdown",
      "metadata": {
        "id": "O5BwNd-FueaE",
        "colab_type": "text"
      },
      "source": [
        "SLIDE 24"
      ]
    },
    {
      "cell_type": "code",
      "metadata": {
        "id": "34tFdrpzufS8",
        "colab_type": "code",
        "colab": {}
      },
      "source": [
        "print iris_dataframe.std()"
      ],
      "execution_count": null,
      "outputs": []
    },
    {
      "cell_type": "markdown",
      "metadata": {
        "id": "ok-bsFTWuigO",
        "colab_type": "text"
      },
      "source": [
        "SLIDE 25"
      ]
    },
    {
      "cell_type": "code",
      "metadata": {
        "id": "intIQVgcujVm",
        "colab_type": "code",
        "colab": {}
      },
      "source": [
        "print\n",
        "iris_dataframe.max(numeric_only=True)-\n",
        "iris_dataframe.min(numeric_only=True)"
      ],
      "execution_count": null,
      "outputs": []
    },
    {
      "cell_type": "markdown",
      "metadata": {
        "id": "tsvHkFQxumVA",
        "colab_type": "text"
      },
      "source": [
        "SLIDE 28"
      ]
    },
    {
      "cell_type": "code",
      "metadata": {
        "id": "BhL3kmYpunBg",
        "colab_type": "code",
        "colab": {}
      },
      "source": [
        "print\n",
        "iris_dataframe.quantile(np.array([0,.25,.5\n",
        "0,.75,1]))"
      ],
      "execution_count": null,
      "outputs": []
    },
    {
      "cell_type": "markdown",
      "metadata": {
        "id": "pYGJqfJFuq57",
        "colab_type": "text"
      },
      "source": [
        "SLIDE 33"
      ]
    },
    {
      "cell_type": "code",
      "metadata": {
        "id": "ze90k65Purbi",
        "colab_type": "code",
        "colab": {}
      },
      "source": [
        "from scipy.stats import kurtosis,\n",
        "kurtosistest\n",
        "k = kurtosis(iris_dataframe['petal length\n",
        "(cm)'])\n",
        "zscore, pvalue =\n",
        "kurtosistest(iris_dataframe['petal length\n",
        "(cm)'])\n",
        "print 'Kurtosis %0.3f z-score %0.3f pvalue %0.3f' % (k, zscore, pvalue)"
      ],
      "execution_count": null,
      "outputs": []
    },
    {
      "cell_type": "code",
      "metadata": {
        "id": "yRJ2naFbuwV2",
        "colab_type": "code",
        "colab": {}
      },
      "source": [
        "from scipy.stats import skew, skewtest\n",
        "s = skew(iris_dataframe['petal length\n",
        "(cm)'])\n",
        "zscore, pvalue =\n",
        "skewtest(iris_dataframe['petal length\n",
        "(cm)'])\n",
        "print 'Skewness %0.3f z-score %0.3f pvalue %0.3f' % (s, zscore, pvalue)\n"
      ],
      "execution_count": null,
      "outputs": []
    },
    {
      "cell_type": "markdown",
      "metadata": {
        "id": "Iffld2Aju2KR",
        "colab_type": "text"
      },
      "source": [
        "SLIDE 37"
      ]
    },
    {
      "cell_type": "code",
      "metadata": {
        "id": "oZwAk6z1u3Dh",
        "colab_type": "code",
        "colab": {}
      },
      "source": [
        "iris_binned = pd.concat([\n",
        "pd.qcut(iris_dataframe.ix[:,0], [0, .25,\n",
        ".5, .75, 1]),\n",
        "pd.qcut(iris_dataframe.ix[:,1], [0, .25,\n",
        ".5, .75, 1]),\n",
        "pd.qcut(iris_dataframe.ix[:,2], [0, .25,\n",
        ".5, .75, 1]),\n",
        "pd.qcut(iris_dataframe.ix[:,3], [0, .25,\n",
        ".5, .75, 1]),\n",
        "], join='outer'\n",
        ", axis = 1)"
      ],
      "execution_count": null,
      "outputs": []
    },
    {
      "cell_type": "markdown",
      "metadata": {
        "id": "E4rA4d2Zu7UF",
        "colab_type": "text"
      },
      "source": [
        "SLIDE 40"
      ]
    },
    {
      "cell_type": "code",
      "metadata": {
        "id": "XHEhCTgLu79R",
        "colab_type": "code",
        "colab": {}
      },
      "source": [
        "print\n",
        "iris_dataframe['group'].value_counts()"
      ],
      "execution_count": null,
      "outputs": []
    },
    {
      "cell_type": "markdown",
      "metadata": {
        "id": "6JoMpgEGvISq",
        "colab_type": "text"
      },
      "source": [
        "SLIDE 43"
      ]
    },
    {
      "cell_type": "code",
      "metadata": {
        "id": "pTNoxJN6vI5F",
        "colab_type": "code",
        "colab": {}
      },
      "source": [
        "print pd.crosstab(iris_dataframe['group'],\n",
        "iris_binned['petal length (cm)'])"
      ],
      "execution_count": null,
      "outputs": []
    },
    {
      "cell_type": "markdown",
      "metadata": {
        "id": "uF4IJJg5va82",
        "colab_type": "text"
      },
      "source": [
        "SLIDE 47"
      ]
    },
    {
      "cell_type": "code",
      "metadata": {
        "id": "7CwEeAq-vbuU",
        "colab_type": "code",
        "colab": {}
      },
      "source": [
        "boxplots =\n",
        "iris_dataframe.boxplot(return_type='axes')"
      ],
      "execution_count": null,
      "outputs": []
    },
    {
      "cell_type": "markdown",
      "metadata": {
        "id": "2qEPtyRtvhqq",
        "colab_type": "text"
      },
      "source": [
        "SLIDE 51"
      ]
    },
    {
      "cell_type": "code",
      "metadata": {
        "id": "iVji5TNnvidS",
        "colab_type": "code",
        "colab": {}
      },
      "source": [
        "from scipy.stats import ttest_ind\n",
        "group0 = iris_dataframe['group'] ==\n",
        "'setosa'\n",
        "group1 = iris_dataframe['group'] ==\n",
        "'versicolor'\n",
        "group2 = iris_dataframe['group'] ==\n",
        "'virginica'\n",
        "print 'var1 %0.3f var2 %03f' %\n",
        "(iris_dataframe['petal length (cm)']\n",
        "[group1].var(),\n",
        "  iris_dataframe['petal length (cm)']\n",
        "[group2].var())"
      ],
      "execution_count": null,
      "outputs": []
    },
    {
      "cell_type": "markdown",
      "metadata": {
        "id": "O4IZAtNEvrA2",
        "colab_type": "text"
      },
      "source": [
        "SLIDE 52"
      ]
    },
    {
      "cell_type": "code",
      "metadata": {
        "id": "EQvtrAXYvrmm",
        "colab_type": "code",
        "colab": {}
      },
      "source": [
        "t, pvalue = ttest_ind(iris_dataframe[sepal\n",
        "width (cm)'][group1], iris_dataframe['sepal width (cm)']\n",
        "[group2], axis=0, equal_var=False)\n",
        "\n",
        "print 't statistic %0.3f p-value %0.3f' %\n",
        "(t, pvalue)"
      ],
      "execution_count": null,
      "outputs": []
    },
    {
      "cell_type": "markdown",
      "metadata": {
        "id": "7t25Xmt1vv_Z",
        "colab_type": "text"
      },
      "source": [
        "SLDIE 54"
      ]
    },
    {
      "cell_type": "code",
      "metadata": {
        "id": "vVyr1F_8vwnx",
        "colab_type": "code",
        "colab": {}
      },
      "source": [
        "from scipy.stats import f_oneway\n",
        "f, pvalue = f_oneway(iris_dataframe['sepal\n",
        "width (cm)'][group0],\n",
        "iris_dataframe['sepal\n",
        "width (cm)'][group1],\n",
        "iris_dataframe['sepal\n",
        "width (cm)'][group2])\n",
        "print \"One-way ANOVA F-value %0.3f p-value\n",
        "%0.3f\" % (f,pvalue)"
      ],
      "execution_count": null,
      "outputs": []
    },
    {
      "cell_type": "markdown",
      "metadata": {
        "id": "lAfIz7Nuvzvz",
        "colab_type": "text"
      },
      "source": [
        "SLIDE 56"
      ]
    },
    {
      "cell_type": "code",
      "metadata": {
        "id": "G8UDtInQv1CM",
        "colab_type": "code",
        "colab": {}
      },
      "source": [
        "from pandas.tools.plotting import\n",
        "parallel_coordinates\n",
        "iris_dataframe['labels'] =\n",
        "[iris.target_names[k] for k in\n",
        "iris_dataframe['group']]\n",
        "pll =\n",
        "parallel_coordinates(iris_dataframe,\n",
        "'labels')"
      ],
      "execution_count": null,
      "outputs": []
    },
    {
      "cell_type": "markdown",
      "metadata": {
        "id": "CXty4QAvv9Lg",
        "colab_type": "text"
      },
      "source": [
        "SLIDE 63"
      ]
    },
    {
      "cell_type": "code",
      "metadata": {
        "id": "qUS940Jav91G",
        "colab_type": "code",
        "colab": {}
      },
      "source": [
        "colors_palette = {0: 'red', 1: 'yellow',\n",
        "2:'blue'}\n",
        "colors = [colors_palette[c] for c in\n",
        "iris_dataframe['group']]\n",
        "simple_scatterplot =\n",
        "iris_dataframe.plot(kind='scatter',\n",
        "x='petal length (cm)', y='petal width\n",
        "(cm)', c=colors)\n"
      ],
      "execution_count": null,
      "outputs": []
    },
    {
      "cell_type": "markdown",
      "metadata": {
        "id": "CPSSKo14wBeK",
        "colab_type": "text"
      },
      "source": [
        "SLIDE 66"
      ]
    },
    {
      "cell_type": "code",
      "metadata": {
        "id": "E0L3gIiEwDRW",
        "colab_type": "code",
        "colab": {}
      },
      "source": [
        "from pandas.tools.plotting import\n",
        "scatter_matrix\n",
        "colors_palette = {0: \"red\", 1: \"yellow\",2: \"blue\"}\n",
        "colors = [colors_palette[c] for c in\n",
        "iris_dataframe['group']]\n",
        "matrix_of_scatterplots =\n",
        "scatter_matrix(iris_dataframe,\n",
        "figsize=(6, 6), color=colors,\n",
        "diagonal='kde')"
      ],
      "execution_count": null,
      "outputs": []
    },
    {
      "cell_type": "markdown",
      "metadata": {
        "id": "S3u1aRBjw46R",
        "colab_type": "text"
      },
      "source": [
        "SLIDE 81"
      ]
    },
    {
      "cell_type": "code",
      "metadata": {
        "id": "c-a6ipOaw5lC",
        "colab_type": "code",
        "colab": {}
      },
      "source": [
        "from scipy.stats import spearmanr\n",
        "from scipy.stats.stats import pearsonr\n",
        "spearmanr_coef, spearmanr_p =\n",
        "spearmanr(iris_dataframe['sepal length\n",
        "(cm)'],\n",
        "iris_dataframe['sepal width (cm)'])\n",
        "pearsonr_coef, pearsonr_p =\n",
        "pearsonr(iris_dataframe['sepal length\n",
        "(cm)'],\n",
        "iris_dataframe['sepal width (cm)'])\n",
        "print 'Pearson correlation %0.3f |\n",
        "Spearman correlation %0.3f' %\n",
        "(pearsonr_coef,\n",
        "spearmanr_coef)"
      ],
      "execution_count": null,
      "outputs": []
    },
    {
      "cell_type": "markdown",
      "metadata": {
        "id": "g-XS98j0w8xC",
        "colab_type": "text"
      },
      "source": [
        "SLIDE 83"
      ]
    },
    {
      "cell_type": "code",
      "metadata": {
        "id": "kXr4lXrmw9iT",
        "colab_type": "code",
        "colab": {}
      },
      "source": [
        "from scipy.stats import chi2_contingency\n",
        "table =\n",
        "pd.crosstab(iris_dataframe['group'],\n",
        "iris_binned['petal length (cm)'])\n",
        "chi2, p, dof, expected =\n",
        "chi2_contingency(table.values)\n",
        "print 'Chi-square %0.2f p-value %0.3f' %(chi2, p)"
      ],
      "execution_count": null,
      "outputs": []
    },
    {
      "cell_type": "markdown",
      "metadata": {
        "id": "VXztXrEWxB-H",
        "colab_type": "text"
      },
      "source": [
        "SLIDE 90"
      ]
    },
    {
      "cell_type": "code",
      "metadata": {
        "id": "IIWk53vxxCjl",
        "colab_type": "code",
        "colab": {}
      },
      "source": [
        "from sklearn.preprocessing import scale\n",
        "stand_sepal_width =\n",
        "scale(iris_dataframe['sepal width (cm)'])"
      ],
      "execution_count": null,
      "outputs": []
    }
  ]
}