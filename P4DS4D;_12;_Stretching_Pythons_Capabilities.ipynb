{
  "nbformat": 4,
  "nbformat_minor": 0,
  "metadata": {
    "colab": {
      "name": "P4DS4D; 12; Stretching Pythons Capabilities.ipynb",
      "provenance": [],
      "collapsed_sections": [],
      "authorship_tag": "ABX9TyN+IW7GTtWN4gSHG8HF9MqH",
      "include_colab_link": true
    },
    "kernelspec": {
      "name": "python3",
      "display_name": "Python 3"
    }
  },
  "cells": [
    {
      "cell_type": "markdown",
      "metadata": {
        "id": "view-in-github",
        "colab_type": "text"
      },
      "source": [
        "<a href=\"https://colab.research.google.com/github/aomiglionni/datascience_python/blob/master/P4DS4D%3B_12%3B_Stretching_Pythons_Capabilities.ipynb\" target=\"_parent\"><img src=\"https://colab.research.google.com/assets/colab-badge.svg\" alt=\"Open In Colab\"/></a>"
      ]
    },
    {
      "cell_type": "markdown",
      "metadata": {
        "id": "SgpSfW26nVDH",
        "colab_type": "text"
      },
      "source": [
        "SLIDE 21"
      ]
    },
    {
      "cell_type": "code",
      "metadata": {
        "id": "d2TWoEQnnV76",
        "colab_type": "code",
        "colab": {
          "base_uri": "https://localhost:8080/",
          "height": 34
        },
        "outputId": "9b0b725f-4926-40db-ca23-9d24b560c9e2"
      },
      "source": [
        "from sklearn.datasets import load_boston\n",
        "boston = load_boston()\n",
        "X, y = boston.data,boston.target\n",
        "print (X.shape, y.shape)"
      ],
      "execution_count": null,
      "outputs": [
        {
          "output_type": "stream",
          "text": [
            "(506, 13) (506,)\n"
          ],
          "name": "stdout"
        }
      ]
    },
    {
      "cell_type": "markdown",
      "metadata": {
        "id": "zI-WbAuNn8Dm",
        "colab_type": "text"
      },
      "source": [
        "SLIDE 23"
      ]
    },
    {
      "cell_type": "code",
      "metadata": {
        "id": "b4y_s4iHn8z_",
        "colab_type": "code",
        "colab": {
          "base_uri": "https://localhost:8080/",
          "height": 85
        },
        "outputId": "9dca310c-4982-48af-972d-f7fbb34e2277"
      },
      "source": [
        "from sklearn.linear_model import LinearRegression\n",
        "hypothesis = LinearRegression(normalize=True)\n",
        "hypothesis.fit(X,y)\n",
        "print (hypothesis.coef_)"
      ],
      "execution_count": null,
      "outputs": [
        {
          "output_type": "stream",
          "text": [
            "[-1.08011358e-01  4.64204584e-02  2.05586264e-02  2.68673382e+00\n",
            " -1.77666112e+01  3.80986521e+00  6.92224640e-04 -1.47556685e+00\n",
            "  3.06049479e-01 -1.23345939e-02 -9.52747232e-01  9.31168327e-03\n",
            " -5.24758378e-01]\n"
          ],
          "name": "stdout"
        }
      ]
    },
    {
      "cell_type": "markdown",
      "metadata": {
        "id": "G386u_n6oOxg",
        "colab_type": "text"
      },
      "source": [
        "SLIDE 26"
      ]
    },
    {
      "cell_type": "code",
      "metadata": {
        "id": "KVVazWutoP0j",
        "colab_type": "code",
        "colab": {}
      },
      "source": [
        "import numpy as np\n",
        "new_observation = np.array([1,0,1,0,0.5,7,59,6,3,200,20,350,4], dtype=float)\n",
        "print (hypothesis.predict(new_observation))"
      ],
      "execution_count": null,
      "outputs": []
    },
    {
      "cell_type": "markdown",
      "metadata": {
        "id": "EFz2BhuiogDy",
        "colab_type": "text"
      },
      "source": [
        "SLIDE 28"
      ]
    },
    {
      "cell_type": "code",
      "metadata": {
        "id": "ng0UG1Jgogvj",
        "colab_type": "code",
        "colab": {}
      },
      "source": [
        "from sklearn.preprocessing import MinMaxScaler\n",
        "scaler = MinMaxScaler(feature_range=(0,1))\n",
        "scaler.fit(X)\n",
        "print (scaler.transform(new_observation))"
      ],
      "execution_count": null,
      "outputs": []
    },
    {
      "cell_type": "markdown",
      "metadata": {
        "id": "PRJ-Ztr2pbkj",
        "colab_type": "text"
      },
      "source": [
        "SLIDE 41"
      ]
    },
    {
      "cell_type": "code",
      "metadata": {
        "id": "JeKOwQbYpcdq",
        "colab_type": "code",
        "colab": {}
      },
      "source": [
        "def hashing_trick(input_string,\n",
        "vector_size=20):\n",
        "feature_vector = [0] * vector_size\n",
        "for word in input_string.split(' '):\n",
        "  index = abs(hash(word)) %vector_size\n",
        "  feature_vector[index] = 1\n",
        "return feature_vector"
      ],
      "execution_count": null,
      "outputs": []
    },
    {
      "cell_type": "markdown",
      "metadata": {
        "id": "7V6wB6lvp4mo",
        "colab_type": "text"
      },
      "source": [
        "SLIDE 44"
      ]
    },
    {
      "cell_type": "code",
      "metadata": {
        "id": "3iR1iiYJp5NY",
        "colab_type": "code",
        "colab": {
          "base_uri": "https://localhost:8080/",
          "height": 85
        },
        "outputId": "f8072696-e848-47f4-b737-05902b0c5a3f"
      },
      "source": [
        "from scipy.sparse import csc_matrix\n",
        "print (csc_matrix([1, 0, 0, 0, 0, 1, 0, 0,0, 0, 0, 0, 0, 0, 0, 0, 1, 0, 1, 0]))"
      ],
      "execution_count": null,
      "outputs": [
        {
          "output_type": "stream",
          "text": [
            "  (0, 0)\t1\n",
            "  (0, 5)\t1\n",
            "  (0, 16)\t1\n",
            "  (0, 18)\t1\n"
          ],
          "name": "stdout"
        }
      ]
    },
    {
      "cell_type": "markdown",
      "metadata": {
        "id": "Ca4dCQ5lqKVs",
        "colab_type": "text"
      },
      "source": [
        "SLIDE 47"
      ]
    },
    {
      "cell_type": "code",
      "metadata": {
        "id": "PXFX9SPWqLGy",
        "colab_type": "code",
        "colab": {}
      },
      "source": [
        "import sklearn.feature_extraction.text as txt\n",
        "one_hot_enconder = txt.CountVectorizer()\n",
        "one_hot_enconded = one_hot_enconder.fit_transform(['Python for data science', \n",
        "                                                   'Python for machine learning'])"
      ],
      "execution_count": null,
      "outputs": []
    },
    {
      "cell_type": "markdown",
      "metadata": {
        "id": "dqPUeLzwqiRf",
        "colab_type": "text"
      },
      "source": [
        "SLIDE 49"
      ]
    },
    {
      "cell_type": "code",
      "metadata": {
        "id": "LoGB5j5_qjFv",
        "colab_type": "code",
        "colab": {}
      },
      "source": [
        "sklearn_hashing_trick =\n",
        "txt.HashingVectorizer(\n",
        "n_features=20, binary=True,norm=None)\n",
        "text_vector = sklearn_hashing_trick.transform(['Python for data science', 'Python for machine learning'])\n",
        "text_vector"
      ],
      "execution_count": null,
      "outputs": []
    },
    {
      "cell_type": "markdown",
      "metadata": {
        "id": "JlFunUaIq_jH",
        "colab_type": "text"
      },
      "source": [
        "SLIDE 58"
      ]
    },
    {
      "cell_type": "code",
      "metadata": {
        "id": "8vj98TWvrAPe",
        "colab_type": "code",
        "colab": {}
      },
      "source": [
        "import sklearn.feature_extraction.text as txt\n",
        "sklearn_hashing_trick = txt.HashingVectorizer(\n",
        "n_features=20, binary=True, norm=None)\n",
        "enconder = txt.CountVectorizer()\n",
        "texts = ['Python for data science','Python for machine learning']"
      ],
      "execution_count": null,
      "outputs": []
    },
    {
      "cell_type": "markdown",
      "metadata": {
        "id": "a79-ubUnrUbS",
        "colab_type": "text"
      },
      "source": [
        "SLIDE 61"
      ]
    },
    {
      "cell_type": "code",
      "metadata": {
        "id": "ALWeV2ikrVGL",
        "colab_type": "code",
        "colab": {
          "base_uri": "https://localhost:8080/",
          "height": 34
        },
        "outputId": "5e01da6e-bcac-4b76-97ad-926be22080a6"
      },
      "source": [
        "import timeit\n",
        "cumulative_time = timeit.timeit(\n",
        "\"hashing = sklearn_hashing_trick.transform(texts)\", \"from __main__ import sklearn_hashing_trick,texts\", number=10000)\n",
        "print (cumulative_time / 10000.0)"
      ],
      "execution_count": null,
      "outputs": [
        {
          "output_type": "stream",
          "text": [
            "0.00016688584870000795\n"
          ],
          "name": "stdout"
        }
      ]
    },
    {
      "cell_type": "markdown",
      "metadata": {
        "id": "1gV-1KUVryBC",
        "colab_type": "text"
      },
      "source": [
        "SLIDE 67"
      ]
    },
    {
      "cell_type": "code",
      "metadata": {
        "id": "cTzAzky8rzAS",
        "colab_type": "code",
        "colab": {
          "base_uri": "https://localhost:8080/",
          "height": 34
        },
        "outputId": "d0b7740c-7df8-41a7-e33c-074f0fc26a68"
      },
      "source": [
        "%%writefile example_code.py\n",
        "import sklearn.feature_extraction.text as\n",
        "txt\n",
        "def comparison_test():\n",
        "sklearn_hashing_trick =\n",
        "txt.HashingVectorizer(\n",
        "n_features=20, binary=True,\n",
        "norm=None)\n",
        "one_hot_enconder =\n",
        "txt.CountVectorizer()\n",
        "texts = ['Python for data science', 'Python for machine learning']\n",
        "one_hot_enconded =\n",
        "one_hot_enconder.fit_transform(\n",
        "texts)\n",
        "hashing =\n",
        "sklearn_hashing_trick.transform(texts)\n",
        "\n",
        "from example_code import comparison_test\n",
        "%mprun -f comparison_test\n",
        "comparison_test()"
      ],
      "execution_count": null,
      "outputs": [
        {
          "output_type": "stream",
          "text": [
            "Writing example_code.py\n"
          ],
          "name": "stdout"
        }
      ]
    },
    {
      "cell_type": "markdown",
      "metadata": {
        "id": "8TFdMcOlsAUr",
        "colab_type": "text"
      },
      "source": [
        "SLIDE 78"
      ]
    },
    {
      "cell_type": "code",
      "metadata": {
        "id": "jPx8ZFMpsBBA",
        "colab_type": "code",
        "colab": {}
      },
      "source": [
        "from sklearn.datasets import load_digits\n",
        "digits = load_digits()\n",
        "X, y = digits.data,digits.target\n",
        "from sklearn.svm import SVC\n",
        "from sklearn.cross_validation import\n",
        "cross_val_score\n",
        "%timeit single_core_learning =\n",
        "cross_val_score(SVC(), X,\n",
        "y, cv=20, n_jobs=1)"
      ],
      "execution_count": null,
      "outputs": []
    },
    {
      "cell_type": "markdown",
      "metadata": {
        "id": "pgKK_p_hsFYa",
        "colab_type": "text"
      },
      "source": [
        "SLIDE 82"
      ]
    },
    {
      "cell_type": "code",
      "metadata": {
        "id": "yGINd9g3sGCT",
        "colab_type": "code",
        "colab": {}
      },
      "source": [
        "from sklearn.datasets import load_digits\n",
        "from sklearn.svm import SVC\n",
        "from sklearn.cross_validation import cross_val_score\n",
        "if __name__ == '__main__':\n",
        "  digits = load_digits()\n",
        "  X, y = digits.data,digits.target\n",
        "  multi_core_learning = cross_val_score(SVC(), X, y, cv=20, n_jobs=-1)"
      ],
      "execution_count": null,
      "outputs": []
    },
    {
      "cell_type": "code",
      "metadata": {
        "id": "NwnQgqgnmPIJ",
        "colab_type": "code",
        "colab": {}
      },
      "source": [
        ""
      ],
      "execution_count": null,
      "outputs": []
    }
  ]
}