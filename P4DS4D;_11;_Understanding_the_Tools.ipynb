{
  "nbformat": 4,
  "nbformat_minor": 0,
  "metadata": {
    "colab": {
      "name": "P4DS4D; 11; Understanding the Tools.ipynb",
      "provenance": [],
      "collapsed_sections": [],
      "authorship_tag": "ABX9TyMOjBp8bR3urWBueNBnJymD",
      "include_colab_link": true
    },
    "kernelspec": {
      "name": "python3",
      "display_name": "Python 3"
    }
  },
  "cells": [
    {
      "cell_type": "markdown",
      "metadata": {
        "id": "view-in-github",
        "colab_type": "text"
      },
      "source": [
        "<a href=\"https://colab.research.google.com/github/aomiglionni/datascience_python/blob/master/P4DS4D%3B_11%3B_Understanding_the_Tools.ipynb\" target=\"_parent\"><img src=\"https://colab.research.google.com/assets/colab-badge.svg\" alt=\"Open In Colab\"/></a>"
      ]
    },
    {
      "cell_type": "markdown",
      "metadata": {
        "id": "OcNRVy9jllJQ",
        "colab_type": "text"
      },
      "source": [
        "SLIDE 62"
      ]
    },
    {
      "cell_type": "code",
      "metadata": {
        "id": "5UL2iLKwlnGG",
        "colab_type": "code",
        "colab": {
          "base_uri": "https://localhost:8080/",
          "height": 34
        },
        "outputId": "72b250e2-1ab5-4501-9de7-8d8c4a9b3efd"
      },
      "source": [
        "from IPython.display import Image\n",
        "Embed = Image(\n",
        "'http://blog.johnmuellerbooks.com/' + 'wp-content/uploads/2015/04/LayerHens.jpg')\n",
        "Embed"
      ],
      "execution_count": null,
      "outputs": [
        {
          "output_type": "execute_result",
          "data": {
            "text/plain": [
              "<IPython.core.display.Image object>"
            ]
          },
          "metadata": {
            "tags": []
          },
          "execution_count": 2
        }
      ]
    },
    {
      "cell_type": "markdown",
      "metadata": {
        "id": "H2SzTT-5lzme",
        "colab_type": "text"
      },
      "source": [
        "SLIDE 65"
      ]
    },
    {
      "cell_type": "code",
      "metadata": {
        "id": "MpuGB9nkl0Q2",
        "colab_type": "code",
        "colab": {}
      },
      "source": [
        "from IPython.display import\n",
        "set_matplotlib_formats\n",
        "set_matplotlib_formats('pdf','svg')"
      ],
      "execution_count": null,
      "outputs": []
    },
    {
      "cell_type": "code",
      "metadata": {
        "id": "oFuiqCK9jTdz",
        "colab_type": "code",
        "colab": {}
      },
      "source": [
        ""
      ],
      "execution_count": null,
      "outputs": []
    }
  ]
}