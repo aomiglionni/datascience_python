{
  "nbformat": 4,
  "nbformat_minor": 0,
  "metadata": {
    "colab": {
      "name": "P4DS4D; 17; Exploring Four Simple and Effective Algorithms.ipynb",
      "provenance": [],
      "collapsed_sections": [],
      "authorship_tag": "ABX9TyOIsDxObltoSNLob/DsCR6+",
      "include_colab_link": true
    },
    "kernelspec": {
      "name": "python3",
      "display_name": "Python 3"
    }
  },
  "cells": [
    {
      "cell_type": "markdown",
      "metadata": {
        "id": "view-in-github",
        "colab_type": "text"
      },
      "source": [
        "<a href=\"https://colab.research.google.com/github/aomiglionni/datascience_python/blob/master/P4DS4D%3B_17%3B_Exploring_Four_Simple_and_Effective_Algorithms.ipynb\" target=\"_parent\"><img src=\"https://colab.research.google.com/assets/colab-badge.svg\" alt=\"Open In Colab\"/></a>"
      ]
    },
    {
      "cell_type": "markdown",
      "metadata": {
        "id": "3kQxJIHI9DFo",
        "colab_type": "text"
      },
      "source": [
        "SLIDE 12"
      ]
    },
    {
      "cell_type": "code",
      "metadata": {
        "id": "Yx6vf1L274Hx",
        "colab_type": "code",
        "colab": {}
      },
      "source": [
        "from sklearn.datasets import load_boston\n",
        "from sklearn.preprocessing import scale\n",
        "boston = load_boston()\n",
        "X, y = scale(boston.data), boston.target"
      ],
      "execution_count": null,
      "outputs": []
    },
    {
      "cell_type": "markdown",
      "metadata": {
        "id": "RK0WfIL99J6_",
        "colab_type": "text"
      },
      "source": [
        "SLIDE 13"
      ]
    },
    {
      "cell_type": "code",
      "metadata": {
        "id": "LX9DGv-29KlS",
        "colab_type": "code",
        "colab": {
          "base_uri": "https://localhost:8080/",
          "height": 34
        },
        "outputId": "a5ac82f6-3444-4eac-8186-37b6c73dea5b"
      },
      "source": [
        "from sklearn.linear_model import LinearRegression\n",
        "regression = LinearRegression()\n",
        "regression.fit(X,y)\n",
        "\n",
        "print (regression.score(X,y))"
      ],
      "execution_count": null,
      "outputs": [
        {
          "output_type": "stream",
          "text": [
            "0.7406426641094095\n"
          ],
          "name": "stdout"
        }
      ]
    },
    {
      "cell_type": "markdown",
      "metadata": {
        "id": "OKy1DTcG9qfo",
        "colab_type": "text"
      },
      "source": [
        "SLIDE 24"
      ]
    },
    {
      "cell_type": "code",
      "metadata": {
        "id": "uWt6fjCJ9rP4",
        "colab_type": "code",
        "colab": {}
      },
      "source": [
        "from sklearn.datasets import load_iris\n",
        "iris = load_iris()\n",
        "X, y = iris.data[:-1,:], iris.target[:-1]"
      ],
      "execution_count": null,
      "outputs": []
    },
    {
      "cell_type": "markdown",
      "metadata": {
        "id": "ByRmjtVH9yLk",
        "colab_type": "text"
      },
      "source": [
        "SLIDE 25"
      ]
    },
    {
      "cell_type": "code",
      "metadata": {
        "id": "4DUBA8jL9y6V",
        "colab_type": "code",
        "colab": {}
      },
      "source": [
        "from sklearn.linear_model import LogisticRegression\n",
        "logistic = LogisticRegression()\n",
        "logistic.fit(X,y)\n",
        "print ('Predicted class %s, real class %s' %(logistic.predict(iris.data[-1,:]),iris.target[-1]))\n",
        "print ('Probabilities for each class from 0 to 2: %s' %logistic.predict_proba(iris.data[-1,:]))"
      ],
      "execution_count": null,
      "outputs": []
    },
    {
      "cell_type": "markdown",
      "metadata": {
        "id": "FId2VM9Z-HvQ",
        "colab_type": "text"
      },
      "source": [
        "SLIDE 28"
      ]
    },
    {
      "cell_type": "code",
      "metadata": {
        "id": "LEbMwb81-Ibq",
        "colab_type": "code",
        "colab": {}
      },
      "source": [
        "from sklearn.datasets import load_digits\n",
        "digits = load_digits()\n",
        "X, y = digits.data[:1700,:], digits.target[:1700]\n",
        "tX, ty = digits.data[1700:,:], digits.target[1700:]"
      ],
      "execution_count": null,
      "outputs": []
    },
    {
      "cell_type": "markdown",
      "metadata": {
        "id": "GtSMTQyY-Sx0",
        "colab_type": "text"
      },
      "source": [
        "SLIDE 30"
      ]
    },
    {
      "cell_type": "code",
      "metadata": {
        "id": "iw8IJtkn-T1e",
        "colab_type": "code",
        "colab": {}
      },
      "source": [
        "from sklearn.multiclass import OneVsRestClassifier\n",
        "from sklearn.multiclass import OneVsOneClassifier\n",
        "OVR = OneVsRestClassifier(LogisticRegression()). fit(X,y)\n",
        "OVO = OneVsOneClassifier(LogisticRegression()).fit(X,y)\n",
        "print ('One vs rest accuracy: %.3f' %OVR.score(tX,ty))\n",
        "print ('One vs one accuracy: %.3f' %OVO.score(tX,ty))"
      ],
      "execution_count": null,
      "outputs": []
    },
    {
      "cell_type": "markdown",
      "metadata": {
        "id": "zVBdyy24_FTC",
        "colab_type": "text"
      },
      "source": [
        "SLIDE 46"
      ]
    },
    {
      "cell_type": "code",
      "metadata": {
        "id": "Wywo8e0v_F7B",
        "colab_type": "code",
        "colab": {
          "base_uri": "https://localhost:8080/",
          "height": 51
        },
        "outputId": "daee8bdf-9f50-4d09-bf75-bc3c432eff58"
      },
      "source": [
        "from sklearn.datasets import fetch_20newsgroups\n",
        "newsgroups_train = fetch_20newsgroups(subset='train',\n",
        "remove=('headers','footers','quotes'))\n",
        "newsgroups_test = fetch_20newsgroups(subset='test',\n",
        "remove=('headers','footers', 'quotes'))"
      ],
      "execution_count": null,
      "outputs": [
        {
          "output_type": "stream",
          "text": [
            "Downloading 20news dataset. This may take a few minutes.\n",
            "Downloading dataset from https://ndownloader.figshare.com/files/5975967 (14 MB)\n"
          ],
          "name": "stderr"
        }
      ]
    },
    {
      "cell_type": "markdown",
      "metadata": {
        "id": "GT8DIi9h_SHY",
        "colab_type": "text"
      },
      "source": [
        "SLIDE 47"
      ]
    },
    {
      "cell_type": "code",
      "metadata": {
        "id": "JBTLy9ej_S0x",
        "colab_type": "code",
        "colab": {}
      },
      "source": [
        "from sklearn.naive_bayes import BernoulliNB, MultinomialNB\n",
        "Bernoulli = BernoulliNB(alpha=0.01)\n",
        "Multinomial = MultinomialNB(alpha=0.01)"
      ],
      "execution_count": null,
      "outputs": []
    },
    {
      "cell_type": "markdown",
      "metadata": {
        "id": "rC8MzZ9U_ZuE",
        "colab_type": "text"
      },
      "source": [
        "SLIDE 49"
      ]
    },
    {
      "cell_type": "code",
      "metadata": {
        "id": "PANZkjr7_aZV",
        "colab_type": "code",
        "colab": {}
      },
      "source": [
        "import sklearn.feature_extraction.text as txt\n",
        "multinomial_hashing_trick = txt.HashingVectorizer(stop_words='english', binary=False, norm=None, non_negative=True)\n",
        "binary_hashing_trick = txt.HashingVectorizer(stop_words='english', binary=True, norm=None, non_negative=True)"
      ],
      "execution_count": null,
      "outputs": []
    },
    {
      "cell_type": "markdown",
      "metadata": {
        "id": "eaX2hysv_rsf",
        "colab_type": "text"
      },
      "source": [
        "SLIDE 52"
      ]
    },
    {
      "cell_type": "code",
      "metadata": {
        "id": "bFYg12oq_s_X",
        "colab_type": "code",
        "colab": {}
      },
      "source": [
        "Multinomial.fit(multinomial_hashing_trick.transform(newsgroups_train.data), newsgroups_train.target)\n",
        "Bernoulli.fit(binary_hashing_trick.transfo\n",
        "rm(newsgroups_train.data),\n",
        "newsgroups_train.target)\n",
        "from sklearn.metrics import accuracy_score\n",
        "for m, h in [(Bernoulli, binary_hashing_trick),(Multinomial,multinomial_hashing_trick)]:\n",
        "print ('Accuracy for %s: %.3f' % (m, accuracy_score(y_true=newsgroups_test.target,\n",
        "y_pred=m.predict(h.transform(\n",
        "newsgroups_test.data)))))\n",
        "Accuracy for BernoulliNB(alpha=0.01, binarize=0.0,\n",
        "class_prior=None, fit_prior=True): 0.570\n",
        "Accuracy for MultinomialNB(alpha=0.01, class_prior=None,\n",
        "fit_prior=True): 0.651\n"
      ],
      "execution_count": null,
      "outputs": []
    },
    {
      "cell_type": "markdown",
      "metadata": {
        "id": "lMw3h-E5ACan",
        "colab_type": "text"
      },
      "source": [
        "SLIDE 54"
      ]
    },
    {
      "cell_type": "code",
      "metadata": {
        "id": "RfZN1E_tADa7",
        "colab_type": "code",
        "colab": {
          "base_uri": "https://localhost:8080/",
          "height": 68
        },
        "outputId": "c1e0af0d-99fe-46bc-99dd-23d15dfcb227"
      },
      "source": [
        "print ('number of posts in training: %i' %len(newsgroups_train.data))\n",
        "D={word:True for post in newsgroups_train.data for word in post.split(' ')}\n",
        "print ('number of distinct words in training: %i' % len(D))\n",
        "print ('number of posts in test: %i' % len(newsgroups_test.data))\n"
      ],
      "execution_count": null,
      "outputs": [
        {
          "output_type": "stream",
          "text": [
            "number of posts in training: 11314\n",
            "number of distinct words in training: 300972\n",
            "number of posts in test: 7532\n"
          ],
          "name": "stdout"
        }
      ]
    },
    {
      "cell_type": "markdown",
      "metadata": {
        "id": "RWvWXzEHAkX-",
        "colab_type": "text"
      },
      "source": [
        "SLIDE 60"
      ]
    },
    {
      "cell_type": "code",
      "metadata": {
        "id": "6AGkwR7LAlUN",
        "colab_type": "code",
        "colab": {}
      },
      "source": [
        "from sklearn.datasets import load_digits\n",
        "from sklearn.decomposition import PCA\n",
        "digits = load_digits()\n",
        "pca = PCA(n_components=25)\n",
        "pca.fit(digits.data[:1700,:])\n",
        "X, y = pca.transform(digits.data[:1700,:]), digits.target[:1700]\n",
        "tX, ty = pca.transform(digits.data[1700:,:]), digits.target[1700:]"
      ],
      "execution_count": null,
      "outputs": []
    },
    {
      "cell_type": "markdown",
      "metadata": {
        "id": "kpQEGnioAuIb",
        "colab_type": "text"
      },
      "source": [
        "SLIDE 62"
      ]
    },
    {
      "cell_type": "code",
      "metadata": {
        "id": "4BwX6ovNAvHa",
        "colab_type": "code",
        "colab": {
          "base_uri": "https://localhost:8080/",
          "height": 68
        },
        "outputId": "a78ece90-80b7-41dd-c322-43f30fa86014"
      },
      "source": [
        "from sklearn.neighbors import KNeighborsClassifier\n",
        "kNN = KNeighborsClassifier(n_neighbors=5)\n",
        "kNN.fit(X,y)"
      ],
      "execution_count": null,
      "outputs": [
        {
          "output_type": "execute_result",
          "data": {
            "text/plain": [
              "KNeighborsClassifier(algorithm='auto', leaf_size=30, metric='minkowski',\n",
              "                     metric_params=None, n_jobs=None, n_neighbors=5, p=2,\n",
              "                     weights='uniform')"
            ]
          },
          "metadata": {
            "tags": []
          },
          "execution_count": 17
        }
      ]
    },
    {
      "cell_type": "markdown",
      "metadata": {
        "id": "g000H2zNA2s3",
        "colab_type": "text"
      },
      "source": [
        "SLIDE 64"
      ]
    },
    {
      "cell_type": "code",
      "metadata": {
        "id": "O-kx1wuxA3X2",
        "colab_type": "code",
        "colab": {
          "base_uri": "https://localhost:8080/",
          "height": 51
        },
        "outputId": "d3e089a4-8cf4-4048-cc0c-779b1a8d2d1a"
      },
      "source": [
        "print ('Accuracy: %.3f' % kNN.score(tX,ty))\n",
        "print ('Prediction: %s actual: %s' %(kNN.predict(tX[:10,:]),ty[:10]))"
      ],
      "execution_count": null,
      "outputs": [
        {
          "output_type": "stream",
          "text": [
            "Accuracy: 0.990\n",
            "Prediction: [5 6 5 0 9 8 9 8 4 1] actual: [5 6 5 0 9 8 9 8 4 1]\n"
          ],
          "name": "stdout"
        }
      ]
    },
    {
      "cell_type": "markdown",
      "metadata": {
        "id": "88CfD779BCm0",
        "colab_type": "text"
      },
      "source": [
        "SLIDE 66"
      ]
    },
    {
      "cell_type": "code",
      "metadata": {
        "id": "LHMYqkzYBDy7",
        "colab_type": "code",
        "colab": {}
      },
      "source": [
        "for k in [1, 5, 10, 100, 200]:\n",
        "kNN = KNeighborsClassifier(n_neighbors=k).fit(X,y)\n",
        "print ('for k= %3i accuracy is %.3f' %(k, kNN.score(tX,ty)))\n",
        "for k= 1 accuracy is 0.979\n",
        "for k= 5 accuracy is 0.990\n",
        "for k= 10 accuracy is 0.969\n",
        "for k= 100 accuracy is 0.959\n",
        "for k= 200 accuracy is 0.907"
      ],
      "execution_count": null,
      "outputs": []
    }
  ]
}