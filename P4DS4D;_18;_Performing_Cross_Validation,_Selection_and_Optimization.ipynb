{
  "nbformat": 4,
  "nbformat_minor": 0,
  "metadata": {
    "colab": {
      "name": "P4DS4D; 18; Performing Cross Validation, Selection and Optimization.ipynb",
      "provenance": [],
      "collapsed_sections": [],
      "authorship_tag": "ABX9TyOQNd+1qtgJBjYg29dwFei8",
      "include_colab_link": true
    },
    "kernelspec": {
      "name": "python3",
      "display_name": "Python 3"
    }
  },
  "cells": [
    {
      "cell_type": "markdown",
      "metadata": {
        "id": "view-in-github",
        "colab_type": "text"
      },
      "source": [
        "<a href=\"https://colab.research.google.com/github/aomiglionni/datascience_python/blob/master/P4DS4D%3B_18%3B_Performing_Cross_Validation%2C_Selection_and_Optimization.ipynb\" target=\"_parent\"><img src=\"https://colab.research.google.com/assets/colab-badge.svg\" alt=\"Open In Colab\"/></a>"
      ]
    },
    {
      "cell_type": "markdown",
      "metadata": {
        "id": "IfcBgKk6DP52",
        "colab_type": "text"
      },
      "source": [
        "SLIDE 33"
      ]
    },
    {
      "cell_type": "code",
      "metadata": {
        "id": "tFv0RXFlDQ-4",
        "colab_type": "code",
        "colab": {
          "base_uri": "https://localhost:8080/",
          "height": 34
        },
        "outputId": "5d4947df-7cb0-4ada-b5a4-da1ca2b325d5"
      },
      "source": [
        "from sklearn.datasets import load_boston\n",
        "boston = load_boston()\n",
        "X, y = boston.data, boston.target\n",
        "print (X.shape, y.shape)"
      ],
      "execution_count": null,
      "outputs": [
        {
          "output_type": "stream",
          "text": [
            "(506, 13) (506,)\n"
          ],
          "name": "stdout"
        }
      ]
    },
    {
      "cell_type": "markdown",
      "metadata": {
        "id": "OYm9mdF3Dagf",
        "colab_type": "text"
      },
      "source": [
        "SLIDE 35"
      ]
    },
    {
      "cell_type": "code",
      "metadata": {
        "id": "ed6av1uoDbK2",
        "colab_type": "code",
        "colab": {
          "base_uri": "https://localhost:8080/",
          "height": 34
        },
        "outputId": "8c95d814-a131-4222-ea93-c97089240c99"
      },
      "source": [
        "from sklearn.linear_model import LinearRegression\n",
        "from sklearn.metrics import mean_squared_error\n",
        "regression = LinearRegression()\n",
        "regression.fit(X,y)\n",
        "print ('Mean squared error: %.2f' %mean_squared_error(y_true=y, y_pred=regression.predict(X)))"
      ],
      "execution_count": null,
      "outputs": [
        {
          "output_type": "stream",
          "text": [
            "Mean squared error: 21.89\n"
          ],
          "name": "stdout"
        }
      ]
    },
    {
      "cell_type": "markdown",
      "metadata": {
        "id": "h3S8miW4DtQ_",
        "colab_type": "text"
      },
      "source": [
        "SLIDE 39"
      ]
    },
    {
      "cell_type": "code",
      "metadata": {
        "id": "j_Rb--OPDt_R",
        "colab_type": "code",
        "colab": {}
      },
      "source": [
        "from sklearn.cross_validation import train_test_split\n",
        "X_train, X_test, y_train, y_test = train_test_split(X, y, test_size=0.30, random_state=5)\n",
        "print (X_train.shape, X_test.shape)"
      ],
      "execution_count": null,
      "outputs": []
    },
    {
      "cell_type": "markdown",
      "metadata": {
        "id": "rKPXwXccD8zY",
        "colab_type": "text"
      },
      "source": [
        "SLIDE 41"
      ]
    },
    {
      "cell_type": "code",
      "metadata": {
        "id": "oJNyceanD9tZ",
        "colab_type": "code",
        "colab": {}
      },
      "source": [
        "regression.fit(X_train,y_train)\n",
        "print ('Train mean squared error: %.2f'\n",
        "% mean_squared_error(y_true=y_train,\n",
        "y_pred=regression.predict(X_train)))"
      ],
      "execution_count": null,
      "outputs": []
    },
    {
      "cell_type": "markdown",
      "metadata": {
        "id": "s1Oukz7bECUu",
        "colab_type": "text"
      },
      "source": [
        "SLIDE 44"
      ]
    },
    {
      "cell_type": "code",
      "metadata": {
        "id": "fnVpOXTBEC5_",
        "colab_type": "code",
        "colab": {}
      },
      "source": [
        "X_train, X_test, y_train, y_test = train_test_split(X, y, test_size=0.30, random_state=6)\n",
        "regression.fit(X_train,y_train)\n",
        "print ('Train mean squared error: %.2f'\n",
        "% mean_squared_error(y_true=y_train,\n",
        "y_pred=regression.predict(X_train)))\n",
        "print ('Test mean squared error: %.2f'\n",
        "% mean_squared_error(y_true=y_test,\n",
        "y_pred=regression.predict(X_test)))"
      ],
      "execution_count": null,
      "outputs": []
    },
    {
      "cell_type": "markdown",
      "metadata": {
        "id": "hSjJP-efEgMM",
        "colab_type": "text"
      },
      "source": [
        "SLIDE 53"
      ]
    },
    {
      "cell_type": "code",
      "metadata": {
        "id": "1ZXLSih4EhC8",
        "colab_type": "code",
        "colab": {}
      },
      "source": [
        "crossvalidation = KFold(n=X.shape[0], n_folds=10, shuffle=True, random_state=1)\n",
        "scores = cross_val_score(regression, X, y, scoring='mean_squared_error', cv=crossvalidation, n_jobs=1)\n",
        "print ('Folds: %i, mean squared error: %.2f std: %.2f' %(len(scores),np.mean(np.abs(scores)),np.std(scores)))"
      ],
      "execution_count": null,
      "outputs": []
    },
    {
      "cell_type": "markdown",
      "metadata": {
        "id": "Y0Pnu6QdE0DH",
        "colab_type": "text"
      },
      "source": [
        "SLIDE 56"
      ]
    },
    {
      "cell_type": "code",
      "metadata": {
        "id": "zbOQd6t_E25A",
        "colab_type": "code",
        "colab": {}
      },
      "source": [
        "import pandas as pd\n",
        "df = pd.DataFrame(X,\n",
        "columns=boston.feature_names)\n",
        "df['target'] = y\n",
        "boxplot = df.boxplot('target', by='CHAS', return_type='axes')"
      ],
      "execution_count": null,
      "outputs": []
    },
    {
      "cell_type": "markdown",
      "metadata": {
        "id": "4Dyeq34hFI8t",
        "colab_type": "text"
      },
      "source": [
        "SLIDE 61"
      ]
    },
    {
      "cell_type": "code",
      "metadata": {
        "id": "xE9il_kyFKSd",
        "colab_type": "code",
        "colab": {}
      },
      "source": [
        "from sklearn.cross_validation import StratifiedKFold\n",
        "stratification = StratifiedKFold(y=X[:,3], n_folds=10,\n",
        "                                 shuffle=True, random_state=1)\n",
        "scores = cross_val_score(regression, X, y, scoring='mean_squared_error',\n",
        "                         cv=stratification, n_jobs=1)\n",
        "print ('Stratified %i folds cross validation mean ' + 'squared error: %.2f std: %.2f' %(len(scores),np.mean(np.abs(scores)),\n",
        "                                                                                       np.std(scores)))"
      ],
      "execution_count": null,
      "outputs": []
    },
    {
      "cell_type": "markdown",
      "metadata": {
        "id": "DqJ3tCzZFkJ2",
        "colab_type": "text"
      },
      "source": [
        "SLIDE 65"
      ]
    },
    {
      "cell_type": "code",
      "metadata": {
        "id": "NX6ZVJsQFk05",
        "colab_type": "code",
        "colab": {}
      },
      "source": [
        "from sklearn.feature_selection import SelectPercentile\n",
        "from sklearn.feature_selection import f_regression\n",
        "Selector_f = SelectPercentile(f_regression, percentile=25)\n",
        "Selector_f.fit(X,y)\n",
        "\n",
        "for n,s in zip(boston.feature_names,Selector_f.scores_):\n",
        "\n",
        "print ('F-score: %3.2f\\t for feature %s' % (s,n))"
      ],
      "execution_count": null,
      "outputs": []
    },
    {
      "cell_type": "markdown",
      "metadata": {
        "id": "rVxDZYXOF7T3",
        "colab_type": "text"
      },
      "source": [
        "SLIDE 70"
      ]
    },
    {
      "cell_type": "code",
      "metadata": {
        "id": "reHgS_9rF8Ej",
        "colab_type": "code",
        "colab": {}
      },
      "source": [
        "from sklearn.feature_selection import RFECV\n",
        "selector = RFECV(estimator=regression, cv=10, scoring='mean_squared_error')\n",
        "selector.fit(X, y)\n",
        "print(\"Optimal number of features: %d\"% selector.n_features_)"
      ],
      "execution_count": null,
      "outputs": []
    },
    {
      "cell_type": "markdown",
      "metadata": {
        "id": "WmLrKsunLQEp",
        "colab_type": "text"
      },
      "source": [
        "SLIDE 76"
      ]
    },
    {
      "cell_type": "code",
      "metadata": {
        "id": "c4NTiwHeLQwE",
        "colab_type": "code",
        "colab": {
          "base_uri": "https://localhost:8080/",
          "height": 34
        },
        "outputId": "91603043-9b8f-429f-8731-5d6c1ae0eaf7"
      },
      "source": [
        "import numpy as np\n",
        "from sklearn.datasets import load_iris\n",
        "iris = load_iris()\n",
        "X, y = iris.data, iris.target\n",
        "print (X.shape, y.shape)"
      ],
      "execution_count": null,
      "outputs": [
        {
          "output_type": "stream",
          "text": [
            "(150, 4) (150,)\n"
          ],
          "name": "stdout"
        }
      ]
    },
    {
      "cell_type": "markdown",
      "metadata": {
        "id": "z6OER6YnLV5I",
        "colab_type": "text"
      },
      "source": [
        "SLIDE 81"
      ]
    },
    {
      "cell_type": "code",
      "metadata": {
        "id": "W5wPgOHNLWjC",
        "colab_type": "code",
        "colab": {}
      },
      "source": [
        "from sklearn.neighbors import KNeighborsClassifier\n",
        "classifier = KNeighborsClassifier(n_neighbors=5, weights='uniform', metric= 'minkowski', p=2)"
      ],
      "execution_count": null,
      "outputs": []
    },
    {
      "cell_type": "markdown",
      "metadata": {
        "id": "O-p1jrPALf-e",
        "colab_type": "text"
      },
      "source": [
        "SLIDE 83"
      ]
    },
    {
      "cell_type": "code",
      "metadata": {
        "id": "n9EjeOMbLgs-",
        "colab_type": "code",
        "colab": {}
      },
      "source": [
        "grid = {'n_neighbors': range(1,11), 'weights': ['uniform', \n",
        "                                                'distance'],'p': [1,2]}\n",
        "print ('Number of tested models: %i' %np.prod([len(grid[element]) for element ingrid]))\n",
        "score_metric = 'accuracy'"
      ],
      "execution_count": null,
      "outputs": []
    },
    {
      "cell_type": "markdown",
      "metadata": {
        "id": "1qQ2Kr52Lqyi",
        "colab_type": "text"
      },
      "source": [
        "SLIDE 84"
      ]
    },
    {
      "cell_type": "code",
      "metadata": {
        "id": "KdPslcDYLrtR",
        "colab_type": "code",
        "colab": {}
      },
      "source": [
        "from sklearn.cross_validation import cross_val_score\n",
        "print ('Baseline with default parameters:  %.3f' % np.mean(\n",
        "cross_val_score(classifier, X, y, cv=10,\n",
        "scoring=score_metric, n_jobs=1)))"
      ],
      "execution_count": null,
      "outputs": []
    },
    {
      "cell_type": "markdown",
      "metadata": {
        "id": "xzUb--lpL-r9",
        "colab_type": "text"
      },
      "source": [
        "SLIDE 86"
      ]
    },
    {
      "cell_type": "code",
      "metadata": {
        "id": "BnxVhvPjL_rK",
        "colab_type": "code",
        "colab": {}
      },
      "source": [
        "from sklearn.grid_search import GridSearchCV\n",
        "search = GridSearchCV(estimator=classifier,\n",
        "param_grid=grid, scoring=score_metric, n_jobs=1,\n",
        "refit=True, cv=10)\n",
        "search.fit(X,y)"
      ],
      "execution_count": null,
      "outputs": []
    },
    {
      "cell_type": "markdown",
      "metadata": {
        "id": "5trgB2mrMG7Q",
        "colab_type": "text"
      },
      "source": [
        "SLIDE 88"
      ]
    },
    {
      "cell_type": "code",
      "metadata": {
        "id": "bG7lNq5uMHos",
        "colab_type": "code",
        "colab": {}
      },
      "source": [
        "print 'Best parameters: %s' %search.best_params_\n",
        "print ('CV Accuracy of best parameters: %.3f' % search.best_score_)\n",
        "Best parameters: {'n_neighbors': 9, 'weights': 'uniform', 'p': 1}"
      ],
      "execution_count": null,
      "outputs": []
    },
    {
      "cell_type": "markdown",
      "metadata": {
        "id": "tLyFwzWVMTfo",
        "colab_type": "text"
      },
      "source": [
        "SLIDE 90"
      ]
    },
    {
      "cell_type": "code",
      "metadata": {
        "id": "nzEoxboFMUNZ",
        "colab_type": "code",
        "colab": {}
      },
      "source": [
        "from sklearn.learning_curve import validation_curve\n",
        "train_scores, test_scores = validation_curve(\n",
        "KNeighborsClassifier(weights='uniform',\n",
        "metric= 'minkowski', p=1), X, y, 'n_neighbors',\n",
        "param_range=range(1,11), cv=10,\n",
        "scoring='accuracy',\n",
        "n_jobs=1)"
      ],
      "execution_count": null,
      "outputs": []
    },
    {
      "cell_type": "markdown",
      "metadata": {
        "id": "jOhQ6SyjMZ1t",
        "colab_type": "text"
      },
      "source": [
        "SLIDE 91"
      ]
    },
    {
      "cell_type": "code",
      "metadata": {
        "id": "M9kqNcb9MckH",
        "colab_type": "code",
        "colab": {}
      },
      "source": [
        "mean_train = np.mean(train_scores,axis=1)\n",
        "mean_test = np.mean(test_scores,axis=1)\n",
        "import matplotlib.pyplot as plt\n",
        "plt.plot(range(1,11),mean_train,'ro--',\n",
        "label='Training')\n",
        "plt.plot(range(1,11),mean_test,'bD-.',\n",
        "label='Cross-validation')\n",
        "plt.grid()\n",
        "plt.xlabel('Number of neighbors')\n",
        "plt.ylabel('accuracy')\n",
        "plt.legend(loc='upper right', numpoints= 1)\n",
        "\n",
        "plt.show()"
      ],
      "execution_count": null,
      "outputs": []
    },
    {
      "cell_type": "markdown",
      "metadata": {
        "id": "02Kkh9xhMhm6",
        "colab_type": "text"
      },
      "source": [
        "SLIDE 96"
      ]
    },
    {
      "cell_type": "code",
      "metadata": {
        "id": "BSj9R00kMiTK",
        "colab_type": "code",
        "colab": {}
      },
      "source": [
        "from sklearn.grid_search import\n",
        "RandomizedSearchCV\n",
        "random_search =\n",
        "RandomizedSearchCV(estimator=classifier,\n",
        "param_distributions=grid, n_iter=10,\n",
        "scoring=score_metric, n_jobs=1,\n",
        "refit=True, cv=10, )\n",
        "random_search.fit(X,y)"
      ],
      "execution_count": null,
      "outputs": []
    },
    {
      "cell_type": "markdown",
      "metadata": {
        "id": "awMLmMwHMkhJ",
        "colab_type": "text"
      },
      "source": [
        "SLIDE 97"
      ]
    },
    {
      "cell_type": "code",
      "metadata": {
        "id": "GWeXat73MlQE",
        "colab_type": "code",
        "colab": {}
      },
      "source": [
        "print 'Best parameters: %s' %random_search.best_params_\n",
        "print ('CV Accuracy of best parameters:\n",
        "%.3f'\n",
        "% random_search.best_score_\n",
        "Best parameters: {'n_neighbors': 9,'weights': 'distance','p': 2}"
      ],
      "execution_count": null,
      "outputs": []
    }
  ]
}