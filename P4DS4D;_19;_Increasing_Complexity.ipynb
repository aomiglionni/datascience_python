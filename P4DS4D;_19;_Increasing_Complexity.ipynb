{
  "nbformat": 4,
  "nbformat_minor": 0,
  "metadata": {
    "colab": {
      "name": "P4DS4D; 19; Increasing Complexity.ipynb",
      "provenance": [],
      "authorship_tag": "ABX9TyPLTQ5GMlnkQn7ZjhYlWoEi",
      "include_colab_link": true
    },
    "kernelspec": {
      "name": "python3",
      "display_name": "Python 3"
    }
  },
  "cells": [
    {
      "cell_type": "markdown",
      "metadata": {
        "id": "view-in-github",
        "colab_type": "text"
      },
      "source": [
        "<a href=\"https://colab.research.google.com/github/aomiglionni/datascience_python/blob/master/P4DS4D%3B_19%3B_Increasing_Complexity.ipynb\" target=\"_parent\"><img src=\"https://colab.research.google.com/assets/colab-badge.svg\" alt=\"Open In Colab\"/></a>"
      ]
    },
    {
      "cell_type": "code",
      "metadata": {
        "id": "EYOUIFxBqC0Z",
        "colab_type": "code",
        "colab": {}
      },
      "source": [
        "from sklearn.datasets import load_boston\n",
        "from random import shuffle\n",
        "boston = load_boston()\n",
        "seed(0) # Creates a replicable shuffling\n",
        "new_index = range(boston.data.shape[0])\n",
        "shuffle(new_index) # shuffling the index\n",
        "X, y = boston.data[new_index],\n",
        "boston.target[new_index]\n",
        "print X.shape, y.shape"
      ],
      "execution_count": null,
      "outputs": []
    },
    {
      "cell_type": "code",
      "metadata": {
        "id": "h1rvOOd7qpdh",
        "colab_type": "code",
        "colab": {}
      },
      "source": [
        "import pandas as pd\n",
        "df = pd.DataFrame(X,columns=boston.feature_names)\n",
        "df['target'] = y"
      ],
      "execution_count": null,
      "outputs": []
    },
    {
      "cell_type": "code",
      "metadata": {
        "id": "9TiN9SATsMer",
        "colab_type": "code",
        "colab": {}
      },
      "source": [
        "scatter = df.plot(kind='scatter',\n",
        "x='LSTAT', y='target', c='r')"
      ],
      "execution_count": null,
      "outputs": []
    },
    {
      "cell_type": "code",
      "metadata": {
        "id": "prHGtxp_tORt",
        "colab_type": "code",
        "colab": {}
      },
      "source": [
        "import numpy as np\n",
        "from\n",
        "sklearn.feature_selection.univariate_selec\n",
        "tion import f_regression\n",
        "F, pval = f_regression(df['LSTAT'],y)\n",
        "print 'F score for the original feature\n",
        "%.1f' % F\n",
        "F, pval =\n",
        "f_regression(np.log(df['LSTAT']),y)\n",
        "print 'F score for the transformed feature\n",
        "%.1f' % F"
      ],
      "execution_count": null,
      "outputs": []
    },
    {
      "cell_type": "code",
      "metadata": {
        "id": "Ta5gIMObwRRw",
        "colab_type": "code",
        "colab": {}
      },
      "source": [
        "from sklearn.linear_model import\n",
        "LinearRegression\n",
        "from sklearn.cross_validation import\n",
        "cross_val_score\n",
        "from sklearn.cross_validation import KFold\n",
        "regression =\n",
        "LinearRegression(normalize=True)\n",
        "crossvalidation = KFold(n=X.shape[0],\n",
        "n_folds=10, shuffle=True, random_state=1)"
      ],
      "execution_count": null,
      "outputs": []
    },
    {
      "cell_type": "markdown",
      "metadata": {
        "id": "VBIAdmVLxgUD",
        "colab_type": "text"
      },
      "source": [
        "SLIDE 22"
      ]
    },
    {
      "cell_type": "code",
      "metadata": {
        "id": "RUtItXZJwyNB",
        "colab_type": "code",
        "colab": {}
      },
      "source": [
        "df =\n",
        "pd.DataFrame(X,columns=boston.feature_name\n",
        "s)\n",
        "baseline =\n",
        "np.mean(cross_val_score(regression, df, y,\n",
        "scoring='r2', cv=crossvalidation,\n",
        "  n_jobs=1))\n",
        "interactions = list()\n",
        "for feature_A in boston.feature_names:\n",
        "  for feature_B in boston.feature_names:\n",
        "    if feature_A > feature_B:\n",
        "      df['interaction'] = df[feature_A]\n",
        "* df[feature_B]\n",
        "      score =\n",
        "np.mean(cross_val_score(regression, df, y,\n",
        "scoring='r2',\n",
        "        cv=crossvalidation, n_jobs=1))\n",
        "    if score > baseline:\n",
        "          interactions.append((feature\n",
        "_A, feature_B, round(score,3)))\n",
        "print 'Baseline R2: %.3f' % baseline\n",
        "print 'Top 10 interactions: %s' %\n",
        "sorted(interactions, key=lambda(x):x[2],\n",
        "reverse=True)[:10]"
      ],
      "execution_count": null,
      "outputs": []
    },
    {
      "cell_type": "markdown",
      "metadata": {
        "id": "6OMTOVnhB0ad",
        "colab_type": "text"
      },
      "source": [
        "SLIDE 24\n"
      ]
    },
    {
      "cell_type": "code",
      "metadata": {
        "id": "PvHcG4kTBJWm",
        "colab_type": "code",
        "colab": {}
      },
      "source": [
        "colors = ['k' if v > np.mean(y) else 'w'\n",
        "for v in y]\n",
        "scatter = df.plot(kind='scatter', x='RM',\n",
        "y='LSTAT', c=colors)"
      ],
      "execution_count": null,
      "outputs": []
    },
    {
      "cell_type": "markdown",
      "metadata": {
        "id": "zKRydJ6OCi7m",
        "colab_type": "text"
      },
      "source": [
        "SLIDE 27"
      ]
    },
    {
      "cell_type": "code",
      "metadata": {
        "id": "Lwi5csv_CkdQ",
        "colab_type": "code",
        "colab": {}
      },
      "source": [
        "polyX =\n",
        "pd.DataFrame(X,columns=boston.feature_name\n",
        "s)\n",
        "baseline =\n",
        "np.mean(cross_val_score(regression, polyX,\n",
        "y,\n",
        "        scoring='mean_squared_error',\n",
        "  cv=crossvalidation, n_jobs=1))\n",
        "improvements = [baseline]\n",
        "for feature_A in boston.feature_names:\n",
        "  polyX[feature_A+'^2'] =\n",
        "polyX[feature_A]**2\n",
        "  improvements.append(np.mean(cross_val_s\n",
        "core(regression, polyX, y,\n",
        "  scoring='mean_squared_error',\n",
        "cv=crossvalidation, n_jobs=1)))\n",
        "  for feature_B in boston.feature_names:\n",
        "    if feature_A > feature_B:\n",
        "      polyX[feature_A+'*'+feature_B] =\n",
        "polyX[feature_A] * polyX[feature_B]\n",
        "      improvements.append(np.mean(cross\n",
        "_val_score(regression, polyX, y,\n",
        "      scoring='mean_squared_error',\n",
        "cv=crossvalidation, n_jobs=1)))"
      ],
      "execution_count": null,
      "outputs": []
    },
    {
      "cell_type": "markdown",
      "metadata": {
        "id": "a6H8RJ1vEK39",
        "colab_type": "text"
      },
      "source": [
        "SLIDE 30"
      ]
    },
    {
      "cell_type": "code",
      "metadata": {
        "id": "j8qQzK2qEMw_",
        "colab_type": "code",
        "colab": {}
      },
      "source": [
        "print shape(polyX)\n",
        "crossvalidation = KFold(n=X.shape[0],\n",
        "n_folds=10, shuffle=True, random_state=1)\n",
        "print 'Mean squared error %.3f' %\n",
        "abs(np.mean(cross_val_score(regression,\n",
        "polyX, y,\n",
        "  scoring='mean_squared_error',\n",
        "cv=crossvalidation, n_jobs=1)))\n"
      ],
      "execution_count": null,
      "outputs": []
    },
    {
      "cell_type": "markdown",
      "metadata": {
        "id": "skmOLuGkHY2b",
        "colab_type": "text"
      },
      "source": [
        "SLIDE 37"
      ]
    },
    {
      "cell_type": "code",
      "metadata": {
        "id": "8sUO4KTLHZ8O",
        "colab_type": "code",
        "colab": {}
      },
      "source": [
        "from sklearn.grid_search import\n",
        "GridSearchCV\n",
        "from sklearn.linear_model import Ridge\n",
        "ridge = Ridge(normalize=True)\n",
        "search = GridSearchCV(estimator=ridge,\n",
        "param_grid={'alpha':np.logspace(-5,2,8)},\n",
        "                  scoring='mean_squared_er\n",
        "ror', n_jobs=1, refit=True, cv=10)\n",
        "search.fit(polyX,y)\n",
        "print 'Best parameters: %s' %\n",
        "search.best_params_\n",
        "print 'CV MSE of best parameters: %.3f' %\n",
        "abs(search.best_score_)"
      ],
      "execution_count": null,
      "outputs": []
    },
    {
      "cell_type": "markdown",
      "metadata": {
        "id": "W00VEC76Ir6n",
        "colab_type": "text"
      },
      "source": [
        "SLIDE 40"
      ]
    },
    {
      "cell_type": "code",
      "metadata": {
        "id": "DncCwXpQIs27",
        "colab_type": "code",
        "colab": {}
      },
      "source": [
        "from sklearn.linear_model import Lasso\n",
        "lasso = Lasso(normalize=True)\n",
        "search = GridSearchCV(estimator=lasso,\n",
        "param_grid={'alpha':np.logspace(-5,2,8)},\n",
        "                    scoring='mean_squared\n",
        "_error', n_jobs=1, refit=True, cv=10)\n",
        "search.fit(polyX,y)\n",
        "print 'Best parameters: %s' %\n",
        "search.best_params_\n",
        "print 'CV MSE of best parameters: %.3f' %\n",
        "abs(search.best_score_)\n"
      ],
      "execution_count": null,
      "outputs": []
    },
    {
      "cell_type": "markdown",
      "metadata": {
        "id": "zV6k7PjZJuk3",
        "colab_type": "text"
      },
      "source": [
        "SLIDE 42"
      ]
    },
    {
      "cell_type": "code",
      "metadata": {
        "id": "ETiNH4VlJvh3",
        "colab_type": "code",
        "colab": {}
      },
      "source": [
        "lasso = Lasso(normalize=True, alpha=0.01)\n",
        "lasso.fit(polyX,y)\n",
        "print\n",
        "polyX.columns[np.abs(lasso.coef_)>0.0001].\n",
        "values\n",
        "\n",
        "['CRIM*CHAS' 'ZN*CRIM' 'ZN*CHAS'\n",
        "'INDUS*DIS' 'CHAS*B' 'NOX^2' 'NOX*DIS'\n",
        "'RM^2' 'RM*CRIM' 'RM*NOX' 'RM*PTRATIO'\n",
        "'RM*B' 'RM*LSTAT' 'RAD*B' 'TAX*DIS'\n",
        "'PTRATIO*NOX' 'LSTAT^2']\n"
      ],
      "execution_count": null,
      "outputs": []
    },
    {
      "cell_type": "markdown",
      "metadata": {
        "id": "Qwfyi9moLJRQ",
        "colab_type": "text"
      },
      "source": [
        "SLIDE 45"
      ]
    },
    {
      "cell_type": "code",
      "metadata": {
        "id": "XL3nfyqFLKBZ",
        "colab_type": "code",
        "colab": {}
      },
      "source": [
        "from sklearn.linear_model import\n",
        "ElasticNet\n",
        "elastic = ElasticNet(normalize=True)\n",
        "search = GridSearchCV(estimator=elastic,\n",
        "param_grid={'alpha':np.logspace(-5,2,8),\n",
        "  'l1_ratio': [0.25, 0.5, 0.75]},\n",
        "  scoring='mean_squared_error', n_jobs=1,\n",
        "refit=True, cv=10)\n",
        "search.fit(polyX,y)\n",
        "print 'Best parameters: %s' %\n",
        "search.best_params_\n",
        "print 'CV MSE of best parameters: %.3f' %\n",
        "abs(search.best_score_)"
      ],
      "execution_count": null,
      "outputs": []
    },
    {
      "cell_type": "markdown",
      "metadata": {
        "id": "x_Euu2lcSb_U",
        "colab_type": "text"
      },
      "source": [
        "SLIDE 52"
      ]
    },
    {
      "cell_type": "code",
      "metadata": {
        "id": "aOwXLMoBScyN",
        "colab_type": "code",
        "colab": {}
      },
      "source": [
        "from sklearn.linear_model import\n",
        "SGDRegressor\n",
        "from sklearn.preprocessing import\n",
        "StandardScaler\n",
        "SGD = SGDRegressor(loss='squared_loss',\n",
        "penalty='l2', alpha=0.0001,\n",
        "              l1_ratio=0.15,\n",
        "              n_iter=2000)\n",
        "scaling = StandardScaler()\n",
        "scaling.fit(polyX)\n",
        "scaled_X = scaling.transform(polyX)\n",
        "print 'CV MSE: %.3f' %\n",
        "abs(np.mean(cross_val_score(SGD, scaled_X,\n",
        "y,\n",
        "  scoring='mean_squared_error',\n",
        "cv=crossvalidation, n_jobs=1)))"
      ],
      "execution_count": null,
      "outputs": []
    },
    {
      "cell_type": "markdown",
      "metadata": {
        "id": "8Z7tqFg0TCI1",
        "colab_type": "text"
      },
      "source": [
        "SLIDE 54"
      ]
    },
    {
      "cell_type": "code",
      "metadata": {
        "id": "lTtPWo5yTDeh",
        "colab_type": "code",
        "colab": {}
      },
      "source": [
        "from sklearn.metrics import\n",
        "mean_squared_error\n",
        "from sklearn.cross_validation import\n",
        "train_test_split\n",
        "X_train, X_test, y_train, y_test =\n",
        "train_test_split(scaled_X, y,\n",
        "test_size=0.20,\n",
        "  random_state=2)\n",
        "SGD = SGDRegressor(loss='squared_loss',\n",
        "penalty='l2', alpha=0.0001, l1_ratio=0.15)\n",
        "improvements = list()\n",
        "for z in range(1000):\n",
        "  SGD.partial_fit(X_train, y_train)\n",
        "  improvements.append(mean_squared_error(\n",
        "y_test, SGD.predict(X_test)))\n"
      ],
      "execution_count": null,
      "outputs": []
    },
    {
      "cell_type": "markdown",
      "metadata": {
        "id": "cP8fjev2Te3f",
        "colab_type": "text"
      },
      "source": [
        "SLIDE 56"
      ]
    },
    {
      "cell_type": "code",
      "metadata": {
        "id": "_pwbDp3HTfta",
        "colab_type": "code",
        "colab": {}
      },
      "source": [
        "import matplotlib.pyplot as plt\n",
        "plt.subplot(1,2,1)\n",
        "plt.plot(range(1,11),np.abs(improvements[:\n",
        "10]),'o--')\n",
        "plt.xlabel('Partial fit initial\n",
        "iterations')\n",
        "plt.ylabel('Test set mean squared error')\n",
        "plt.subplot(1,2,2)\n",
        "plt.plot(range(100,1000,100),np.abs(improv\n",
        "ements[100:1000:100]),'o--')\n",
        "plt.xlabel('Partial fit ending\n",
        "iterations')\n",
        "plt.show()"
      ],
      "execution_count": null,
      "outputs": []
    },
    {
      "cell_type": "markdown",
      "metadata": {
        "id": "2qn2ktH6kKXl",
        "colab_type": "text"
      },
      "source": [
        "SLIDE 81"
      ]
    },
    {
      "cell_type": "code",
      "metadata": {
        "id": "X-T765iTkLa5",
        "colab_type": "code",
        "colab": {}
      },
      "source": [
        "from sklearn import datasets\n",
        "digits = datasets.load_digits()\n",
        "X,y = digits.data, digits.target"
      ],
      "execution_count": null,
      "outputs": []
    },
    {
      "cell_type": "markdown",
      "metadata": {
        "id": "VmbgExbalGu-",
        "colab_type": "text"
      },
      "source": [
        "SLIDE 83"
      ]
    },
    {
      "cell_type": "code",
      "metadata": {
        "id": "2NRoTr5FlHdT",
        "colab_type": "code",
        "colab": {}
      },
      "source": [
        "import matplotlib.pyplot as plt\n",
        "for k,img in enumerate(range(10)):\n",
        "  plt.subplot(2, 5, k)\n",
        "  plt.imshow(digits.images[img],\n",
        "  cmap='binary',interpolation='none')\n",
        "plt.show()"
      ],
      "execution_count": null,
      "outputs": []
    },
    {
      "cell_type": "markdown",
      "metadata": {
        "id": "cr2NnJECxeEi",
        "colab_type": "text"
      },
      "source": [
        "SLIDE 89"
      ]
    },
    {
      "cell_type": "code",
      "metadata": {
        "id": "diBFwaDLxfEw",
        "colab_type": "code",
        "colab": {}
      },
      "source": [
        "from sklearn.cross_validation import\n",
        "train_test_split, cross_val_score\n",
        "from sklearn.preprocessing import\n",
        "MinMaxScaler\n",
        "# We keep 30% random examples for test\n",
        "X_train, X_test, y_train, y_test =\n",
        "train_test_split(X, y, test_size=0.3,\n",
        "random_state=101)"
      ],
      "execution_count": null,
      "outputs": []
    },
    {
      "cell_type": "markdown",
      "metadata": {
        "id": "rgpKQMo-x3Kk",
        "colab_type": "text"
      },
      "source": [
        "SLIDE 90"
      ]
    },
    {
      "cell_type": "code",
      "metadata": {
        "id": "HoblP3dIx33s",
        "colab_type": "code",
        "colab": {}
      },
      "source": [
        "# We scale the data in the range [-1,1]\n",
        "scaling = MinMaxScaler(feature_range=(-1,\n",
        "1)).fit(X_train)\n",
        "X_train = scaling.transform(X_train)\n",
        "X_test = scaling.transform(X_test)"
      ],
      "execution_count": null,
      "outputs": []
    },
    {
      "cell_type": "markdown",
      "metadata": {
        "id": "U1_H_EJUy-QM",
        "colab_type": "text"
      },
      "source": [
        "SLIDE 92"
      ]
    },
    {
      "cell_type": "code",
      "metadata": {
        "id": "LXmIBqvyy_Ei",
        "colab_type": "code",
        "colab": {}
      },
      "source": [
        "from sklearn.svm import SVC\n",
        "# We balance the clasess so you can see\n",
        "how it works\n",
        "learning_algo = SVC(kernel='linear',\n",
        "class_weight='auto')"
      ],
      "execution_count": null,
      "outputs": []
    },
    {
      "cell_type": "markdown",
      "metadata": {
        "id": "SJvJuQeoze6g",
        "colab_type": "text"
      },
      "source": [
        "SLIDE 93"
      ]
    },
    {
      "cell_type": "code",
      "metadata": {
        "id": "105QW0ByzgoU",
        "colab_type": "code",
        "colab": {}
      },
      "source": [
        "cv_performance =\n",
        "cross_val_score(learning_algo, X_train,\n",
        "y_train, cv=10)\n",
        "test_performance =\n",
        "learning_algo.fit(X_train,\n",
        "y_train).score(X_test, y_test)"
      ],
      "execution_count": null,
      "outputs": []
    },
    {
      "cell_type": "markdown",
      "metadata": {
        "id": "PUMKor550Uw2",
        "colab_type": "text"
      },
      "source": [
        "SLIDE 94"
      ]
    },
    {
      "cell_type": "code",
      "metadata": {
        "id": "0AqD_nfP0V30",
        "colab_type": "code",
        "colab": {}
      },
      "source": [
        "print 'Cross-validation accuracy score:\n",
        "%0.3f,\n",
        "test accuracy score: %0.3f' %\n",
        "(np.mean(cv_performance),test_performance)"
      ],
      "execution_count": null,
      "outputs": []
    },
    {
      "cell_type": "markdown",
      "metadata": {
        "id": "d739OT_f1NfP",
        "colab_type": "text"
      },
      "source": [
        "SLIDE 96"
      ]
    },
    {
      "cell_type": "code",
      "metadata": {
        "id": "swNOagCO1OjI",
        "colab_type": "code",
        "colab": {}
      },
      "source": [
        "from sklearn.grid_search import\n",
        "GridSearchCV\n",
        "learning_algo = SVC(kernel='linear',\n",
        "class_weight='auto', random_state=101)\n",
        "search_space = {'C': np.logspace(-3, 3,\n",
        "7)}\n",
        "gridsearch = GridSearchCV(learning_algo,\n",
        "param_grid=search_space,\n",
        "scoring='accuracy',\n",
        "refit=True, cv=10)\n",
        "gridsearch.fit(X_train,y_train)"
      ],
      "execution_count": null,
      "outputs": []
    },
    {
      "cell_type": "markdown",
      "metadata": {
        "id": "oCnMghOx2txb",
        "colab_type": "text"
      },
      "source": [
        "SLIDE 99"
      ]
    },
    {
      "cell_type": "code",
      "metadata": {
        "id": "CJ5YOTij2uhF",
        "colab_type": "code",
        "colab": {}
      },
      "source": [
        "cv_performance = gridsearch.best_score_\n",
        "test_performance =\n",
        "gridsearch.score(X_test, y_test)"
      ],
      "execution_count": null,
      "outputs": []
    },
    {
      "cell_type": "markdown",
      "metadata": {
        "id": "ohewLVGL3C7e",
        "colab_type": "text"
      },
      "source": [
        "SLIDE 100"
      ]
    },
    {
      "cell_type": "code",
      "metadata": {
        "id": "kWzWG1BT3Dlh",
        "colab_type": "code",
        "colab": {}
      },
      "source": [
        "print 'Cross-validation accuracy score:\n",
        "%0.3f,\n",
        "test accuracy score: %0.3f' %\n",
        "(cv_performance,test_performance)\n",
        "print 'Best C parameter: %0.1f' %\n",
        "gridsearch.best_params_['C']"
      ],
      "execution_count": null,
      "outputs": []
    },
    {
      "cell_type": "markdown",
      "metadata": {
        "id": "CwOQD6Z56Orc",
        "colab_type": "text"
      },
      "source": [
        "SLIDE 104"
      ]
    },
    {
      "cell_type": "code",
      "metadata": {
        "id": "_UhNtZ8F6Qat",
        "colab_type": "code",
        "colab": {}
      },
      "source": [
        "from sklearn.grid_search import\n",
        "GridSearchCV\n",
        "learning_algo = SVC(class_weight='auto',\n",
        "random_state=101)\n",
        "search_space = [{'kernel': ['linear'],\n",
        "'C': np.logspace(-3, 3, 7)},\n",
        "{'kernel': ['rbf'],'degree':\n",
        "[2,3,4],'C':np.logspace(-3, 3, 7),\n",
        "'gamma': np.logspace(-3, 2,\n",
        "6)}]\n",
        "gridsearch = GridSearchCV(learning_algo,\n",
        "param_grid=search_space,\n",
        "scoring='accuracy',\n",
        "refit=True, cv=10)\n",
        "gridsearch.fit(X_train,y_train)\n",
        "cv_performance = gridsearch.best_score_\n",
        "test_performance =\n",
        "gridsearch.score(X_test, y_test)\n",
        "print 'Cross-validation accuracy score:\n",
        "%0.3f,\n",
        "test accuracy score: %0.3f' %\n",
        "(cv_performance,test_performance)\n",
        "print 'Best parameters: %s' %\n",
        "gridsearch.best_params_"
      ],
      "execution_count": null,
      "outputs": []
    },
    {
      "cell_type": "markdown",
      "metadata": {
        "id": "1htmJqkb78is",
        "colab_type": "text"
      },
      "source": [
        "SLIDE 108"
      ]
    },
    {
      "cell_type": "code",
      "metadata": {
        "id": "e9CFS4J779sa",
        "colab_type": "code",
        "colab": {}
      },
      "source": [
        "from sklearn import datasets\n",
        "boston = datasets.load_boston()\n",
        "X,y = boston.data, boston.target\n",
        "X_train, X_test, y_train, y_test =\n",
        "train_test_split(X, y, test_size=0.3,\n",
        "  random_state=101)\n",
        "scaling = MinMaxScaler(feature_range=(-1,\n",
        "1)).fit(X_train)\n",
        "X_train = scaling.transform(X_train)\n",
        "X_test = scaling.transform(X_test)"
      ],
      "execution_count": null,
      "outputs": []
    },
    {
      "cell_type": "markdown",
      "metadata": {
        "id": "qcz8HJkoA8Ld",
        "colab_type": "text"
      },
      "source": [
        "SLIDE 111"
      ]
    },
    {
      "cell_type": "code",
      "metadata": {
        "id": "uyY1y8weA800",
        "colab_type": "code",
        "colab": {}
      },
      "source": [
        "from sklearn.svm import SVR\n",
        "learning_algo = SVR(random_state=101)\n",
        "search_space = [{'kernel': ['linear'],\n",
        "'C': np.logspace(-3, 2, 6),'epsilon': [0,\n",
        "0.01,\n",
        "0.1, 0.5, 1, 2, 4]},{'kernel': ['rbf'],\n",
        "'degree':[2,3],'C':np.logspace(-3, 3, 7),\n",
        "'gamma': np.logspace(-3, 2, 6),\n",
        "'epsilon': [0, 0.01, 0.1, 0.5, 1, 2, 4]}]\n",
        "gridsearch = GridSearchCV(learning_algo,\n",
        "param_grid=search_space, refit=True,\n",
        "  scoring= 'r2', cv=10)\n",
        "gridsearch.fit(X_train,y_train)\n",
        "cv_performance = gridsearch.best_score_\n",
        "test_performance =\n",
        "gridsearch.score(X_test, y_test)\n",
        "print 'Cross-validation R2 score: %0.3f,\n",
        "  test R2 score: %0.3f' %\n",
        "(cv_performance,test_performance)\n",
        "print 'Best parameters: %s' %\n",
        "gridsearch.best_params_\n",
        "Cross-validation R2 score: 0.833, test R2\n",
        "score: 0.871\n",
        "Best parameters: {'epsilon': 2,'C':\n",
        "1000.0,'gamma': 0.10000000000000001,\n",
        "'degree': 2,'kernel': 'rbf'}"
      ],
      "execution_count": null,
      "outputs": []
    },
    {
      "cell_type": "markdown",
      "metadata": {
        "id": "UhljLwycFW0u",
        "colab_type": "text"
      },
      "source": [
        "SLIDE 117"
      ]
    },
    {
      "cell_type": "code",
      "metadata": {
        "id": "I7hzl8LSFXiF",
        "colab_type": "code",
        "colab": {}
      },
      "source": [
        "from sklearn.datasets import\n",
        "make_classification\n",
        "X,y = make_classification(n_samples=10**4,\n",
        "n_features=15, n_informative=10,\n",
        "  random_state=101)\n",
        "X_train, X_test, y_train, y_test =\n",
        "train_test_split(X, y, test_size=0.3,\n",
        "  random_state=101)\n",
        "from sklearn.svm import SVC, LinearSVC\n",
        "slow_SVM = SVC(kernel=\"linear\",\n",
        "random_state=101)\n",
        "fast_SVM = LinearSVC(random_state=101,\n",
        "penalty='l2', loss='l1')\n",
        "slow_SVM.fit(X_train, y_train)\n",
        "fast_SVM.fit(X_train, y_train)\n",
        "print 'SVC test accuracy score: %0.3f' %\n",
        "slow_SVM.score(X_test, y_test)\n",
        "print 'LinearSVC test accuracy score:\n",
        "%0.3f' % fast_SVM.score(X_test, y_test)\n"
      ],
      "execution_count": null,
      "outputs": []
    },
    {
      "cell_type": "markdown",
      "metadata": {
        "id": "mtk3CpV_F2yS",
        "colab_type": "text"
      },
      "source": [
        "SLIDE 119"
      ]
    },
    {
      "cell_type": "code",
      "metadata": {
        "id": "BLQrfbSVF3oU",
        "colab_type": "code",
        "colab": {}
      },
      "source": [
        "import timeit\n",
        "X,y = make_classification(n_samples=10**4,\n",
        "n_features=15, n_informative=10,\n",
        "  random_state=101)\n",
        "print 'avg secs for SVC, best of 3: %0.1f'\n",
        "% np.mean(timeit.timeit(\"slow_SVM.fit(X,\n",
        "y)\",\n",
        "  \"from __main__ import slow_SVM, X, y\",\n",
        "number=1))\n",
        "print 'avg secs for LinearSVC, best of 3:\n",
        "%0.1f' % np.mean(\n",
        "  timeit.timeit(\"fast_SVM.fit(X, y)\",\n",
        "\"from __main__ import fast_SVM, X, y\",\n",
        "number=1))\n"
      ],
      "execution_count": null,
      "outputs": []
    },
    {
      "cell_type": "markdown",
      "metadata": {
        "id": "YaY6o2srH6-Z",
        "colab_type": "text"
      },
      "source": [
        "SLIDE 123"
      ]
    },
    {
      "cell_type": "code",
      "metadata": {
        "id": "UXm5fwMuH8B2",
        "colab_type": "code",
        "colab": {}
      },
      "source": [
        "from sklearn.linear_model import\n",
        "SGDClassifier\n",
        "X,y = make_classification(n_samples=10**6,\n",
        "n_features=15, n_informative=10,\n",
        "  random_state=101)\n",
        "X_train, X_test, y_train, y_test =\n",
        "train_test_split(X, y, test_size=0.3,\n",
        "  random_state=101) "
      ],
      "execution_count": null,
      "outputs": []
    },
    {
      "cell_type": "markdown",
      "metadata": {
        "id": "LRnnHBlUIZC9",
        "colab_type": "text"
      },
      "source": [
        "SLIDE 125"
      ]
    },
    {
      "cell_type": "code",
      "metadata": {
        "id": "CIojWmDpIZ0e",
        "colab_type": "code",
        "colab": {}
      },
      "source": [
        "fast_SVM = LinearSVC(random_state=101)\n",
        "fast_SVM.fit(X_train, y_train)\n",
        "print 'LinearSVC test accuracy score:\n",
        "%0.3f' % fast_SVM.score(X_test, y_test)\n",
        "print 'avg secs for LinearSVC, best of 3:\n",
        "%0.1f' % np.mean(\n",
        "  timeit.timeit(\"fast_SVM.fit(X_train,\n",
        "y_train)\",\n",
        "  \"from __main__ import fast_SVM,\n",
        "X_train, y_train\", number=1))"
      ],
      "execution_count": null,
      "outputs": []
    },
    {
      "cell_type": "markdown",
      "metadata": {
        "id": "vgce3C7qJLKi",
        "colab_type": "text"
      },
      "source": [
        "SLIDE 127"
      ]
    },
    {
      "cell_type": "code",
      "metadata": {
        "id": "GeqLKJ5wJL6q",
        "colab_type": "code",
        "colab": {}
      },
      "source": [
        "stochastic_SVM =\n",
        "SGDClassifier(loss='hinge', n_iter=5,\n",
        "shuffle=True, random_state=101)\n",
        "stochastic_SVM.fit(X_train, y_train)\n",
        "print 'SGDClassifier test accuracy score:\n",
        "%0.3f' % stochastic_SVM.score(X_test,\n",
        "y_test)\n",
        "print 'avg secs for SGDClassifier, best of\n",
        "3: %0.1f' % np.mean(\n",
        "  timeit.timeit(\"stochastic_SVM.fit(X_tra\n",
        "in, y_train)\",\n",
        "  \"from __main__ import stochastic_SVM,\n",
        "X_train, y_train\", number=1))"
      ],
      "execution_count": null,
      "outputs": []
    }
  ]
}