{
  "nbformat": 4,
  "nbformat_minor": 0,
  "metadata": {
    "colab": {
      "name": "P4DS4D; 08; Operations on Arrays and Matrices.ipynb",
      "provenance": [],
      "authorship_tag": "ABX9TyORddxfrmSqxEceVWlOYHPc",
      "include_colab_link": true
    },
    "kernelspec": {
      "name": "python3",
      "display_name": "Python 3"
    }
  },
  "cells": [
    {
      "cell_type": "markdown",
      "metadata": {
        "id": "view-in-github",
        "colab_type": "text"
      },
      "source": [
        "<a href=\"https://colab.research.google.com/github/aomiglionni/datascience_python/blob/master/P4DS4D%3B_08%3B_Operations_on_Arrays_and_Matrices.ipynb\" target=\"_parent\"><img src=\"https://colab.research.google.com/assets/colab-badge.svg\" alt=\"Open In Colab\"/></a>"
      ]
    },
    {
      "cell_type": "markdown",
      "metadata": {
        "id": "R-T3ydvdNavk",
        "colab_type": "text"
      },
      "source": [
        "SLIDE 40"
      ]
    },
    {
      "cell_type": "code",
      "metadata": {
        "id": "leJxjht0MoxI",
        "colab_type": "code",
        "colab": {}
      },
      "source": [
        "import numpy as np\n",
        "dataset = np.array([[2, 4, 6, 8, 3, 2, 5],[7, 5, 3, 1, 6, 8, 0],[1, 3, 2, 1, 0, 0,8]])\n",
        "print np.max(dataset, axis=1) - np.min(dataset, axis=1)"
      ],
      "execution_count": null,
      "outputs": []
    },
    {
      "cell_type": "markdown",
      "metadata": {
        "id": "X4uhl9VFNrlf",
        "colab_type": "text"
      },
      "source": [
        "SLIDE 43"
      ]
    },
    {
      "cell_type": "code",
      "metadata": {
        "id": "dFnWuBLwNsVI",
        "colab_type": "code",
        "colab": {
          "base_uri": "https://localhost:8080/",
          "height": 34
        },
        "outputId": "05f0731e-a6f7-4bd8-87f0-311925f02c47"
      },
      "source": [
        "import numpy as np\n",
        "a = np.array([15.0, 20.0, 22.0, 75.0,40.0, 35.0])\n",
        "a = a*.01\n",
        "print (a)"
      ],
      "execution_count": null,
      "outputs": [
        {
          "output_type": "stream",
          "text": [
            "[0.15 0.2  0.22 0.75 0.4  0.35]\n"
          ],
          "name": "stdout"
        }
      ]
    },
    {
      "cell_type": "markdown",
      "metadata": {
        "id": "1iKdT03VN7U5",
        "colab_type": "text"
      },
      "source": [
        "SLIDE 46"
      ]
    },
    {
      "cell_type": "code",
      "metadata": {
        "id": "Exg5YcsZN8KR",
        "colab_type": "code",
        "colab": {
          "base_uri": "https://localhost:8080/",
          "height": 34
        },
        "outputId": "1e3f01fd-372b-45a8-e7f7-dc6a59335df4"
      },
      "source": [
        "import numpy as np\n",
        "a = np.array([2, 4, 6, 8])\n",
        "b = np.array([[1, 2, 3, 4],\n",
        "[2, 3, 4, 5],\n",
        "[3, 4, 5, 6],\n",
        "[4, 5, 6, 7]])\n",
        "c = np.dot(a, b)\n",
        "print (c)"
      ],
      "execution_count": null,
      "outputs": [
        {
          "output_type": "stream",
          "text": [
            "[ 60  80 100 120]\n"
          ],
          "name": "stdout"
        }
      ]
    },
    {
      "cell_type": "markdown",
      "metadata": {
        "id": "0i5g13qvODeN",
        "colab_type": "text"
      },
      "source": [
        "SLIDE 49"
      ]
    },
    {
      "cell_type": "code",
      "metadata": {
        "id": "3wKlphprOEWt",
        "colab_type": "code",
        "colab": {
          "base_uri": "https://localhost:8080/",
          "height": 51
        },
        "outputId": "11d60754-27a1-445b-eca5-7d281998b90b"
      },
      "source": [
        "import numpy as np\n",
        "a = np.array([[2, 4, 6, 8],\n",
        "[1, 3, 5, 7]])\n",
        "b = np.array ([[1, 2],\n",
        "[2, 3],\n",
        "[3, 4],\n",
        "[4, 5]])\n",
        "c = np.dot(a, b)\n",
        "print (c)"
      ],
      "execution_count": null,
      "outputs": [
        {
          "output_type": "stream",
          "text": [
            "[[60 80]\n",
            " [50 66]]\n"
          ],
          "name": "stdout"
        }
      ]
    }
  ]
}