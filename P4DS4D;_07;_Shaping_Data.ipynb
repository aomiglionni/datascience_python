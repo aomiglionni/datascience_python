{
  "nbformat": 4,
  "nbformat_minor": 0,
  "metadata": {
    "colab": {
      "name": "P4DS4D; 07; Shaping Data.ipynb",
      "provenance": [],
      "authorship_tag": "ABX9TyMCexL1ofcwaYLjCAhOmr9K",
      "include_colab_link": true
    },
    "kernelspec": {
      "name": "python3",
      "display_name": "Python 3"
    }
  },
  "cells": [
    {
      "cell_type": "markdown",
      "metadata": {
        "id": "view-in-github",
        "colab_type": "text"
      },
      "source": [
        "<a href=\"https://colab.research.google.com/github/aomiglionni/datascience_python/blob/master/P4DS4D%3B_07%3B_Shaping_Data.ipynb\" target=\"_parent\"><img src=\"https://colab.research.google.com/assets/colab-badge.svg\" alt=\"Open In Colab\"/></a>"
      ]
    },
    {
      "cell_type": "code",
      "metadata": {
        "id": "NaEksBkvMHTH",
        "colab_type": "code",
        "colab": {}
      },
      "source": [
        "SLIDE 10"
      ],
      "execution_count": null,
      "outputs": []
    },
    {
      "cell_type": "code",
      "metadata": {
        "id": "iTflqKwF-6-g",
        "colab_type": "code",
        "colab": {}
      },
      "source": [
        "from lxml import objectify\n",
        "import pandas as pd\n",
        "from distutils import util\n",
        "\n",
        "xml = objectify.parse(open('XMLData.xml'))\n",
        "root = xml.getroot()\n",
        "df = pd.DataFrame(columns=('Number',\n",
        "'Boolean'))\n",
        "\n",
        "for i in range(0,4):\n",
        "  obj = root.getchildren()\n",
        "[i].getchildren()\n",
        "  row = dict(zip(['Number','Boolean'],\n",
        "[obj[0].pyval,\n",
        "bool(util.strtobool(obj[2].text))]))\n",
        "  row_s = pd.Series(row)\n",
        "  row_s.name = obj[1].text\n",
        "  df = df.append(row_s)\n",
        "\n",
        "print type(df.ix['First']['Number'])\n",
        "print type(df.ix['First']['Boolean'])"
      ],
      "execution_count": null,
      "outputs": []
    },
    {
      "cell_type": "markdown",
      "metadata": {
        "id": "7UG2XpLH_iwH",
        "colab_type": "text"
      },
      "source": [
        "SLIDE 13"
      ]
    },
    {
      "cell_type": "code",
      "metadata": {
        "id": "NpyAsuDx_jXY",
        "colab_type": "code",
        "colab": {}
      },
      "source": [
        "from lxml import objectify\n",
        "import pandas as pd\n",
        "from distutils import util\n",
        "\n",
        "xml = objectify.parse(open('XMLData.xml'))\n",
        "root = xml.getroot()\n",
        "\n",
        "data = zip(map(int,\n",
        "root.xpath('Record/Number')),\n",
        "    map(bool, map(util.strtobool,\n",
        "    map(str,\n",
        "root.xpath('Record/Boolean')))))\n",
        "\n",
        "df = pd.DataFrame(data,\n",
        "columns=('Number',\n",
        "'Boolean'),\n",
        "    index=map(str,\n",
        "      root.xpath('Record\n",
        "/String')))\n",
        "\n",
        "print df\n",
        "print type(df.ix['First']['Number'])\n",
        "print type(df.ix['First']['Boolean'])"
      ],
      "execution_count": null,
      "outputs": []
    },
    {
      "cell_type": "code",
      "metadata": {
        "id": "DkLCSUh5CzkS",
        "colab_type": "code",
        "colab": {
          "base_uri": "https://localhost:8080/",
          "height": 35
        },
        "outputId": "64a24bc9-9109-43e9-884a-80e969a43340"
      },
      "source": [
        "import sys\n",
        "sys.getdefaultencoding()"
      ],
      "execution_count": null,
      "outputs": [
        {
          "output_type": "execute_result",
          "data": {
            "application/vnd.google.colaboratory.intrinsic": {
              "type": "string"
            },
            "text/plain": [
              "'utf-8'"
            ]
          },
          "metadata": {
            "tags": []
          },
          "execution_count": 1
        }
      ]
    },
    {
      "cell_type": "markdown",
      "metadata": {
        "id": "auwaFHwZHkEv",
        "colab_type": "text"
      },
      "source": [
        "SLIDE 25"
      ]
    },
    {
      "cell_type": "code",
      "metadata": {
        "id": "f2jWzWHvHlG3",
        "colab_type": "code",
        "colab": {}
      },
      "source": [
        "import sklearn.feature_extraction.text as text\n",
        "from nltk import word_tokenize\n",
        "from nltk.stem.porter import PorterStemmer\n",
        "\n",
        "stemmer = PorterStemmer()\n",
        "\n",
        "def stem_tokens(tokens, stemmer):\n",
        "  stemmed = []\n",
        "  for item in tokens:\n",
        "    stemmed.append(stemmer.stem(item))\n",
        "  return stemmed\n",
        "\n",
        "def tokenize(text):\n",
        "  tokens = word_tokenize(text)\n",
        "  stems = stem_tokens(tokens, stemmer)\n",
        "  return stems\n",
        "vocab = ['Sam loves swimming so he swims all the time']\n",
        "vect = ext.CountVectorizer(tokenizer=tokenize,\n",
        "                  stop_words='english')\n",
        "vec = vect.fit(vocab)\n",
        "\n",
        "sentence1 = vec.transform(['George loves swimming too!'])\n",
        "\n",
        "print vec.get_feature_names()\n",
        "print sentence1.toarray()"
      ],
      "execution_count": null,
      "outputs": []
    },
    {
      "cell_type": "markdown",
      "metadata": {
        "id": "IsVJJB33IhOL",
        "colab_type": "text"
      },
      "source": [
        "SLIDE 30"
      ]
    },
    {
      "cell_type": "code",
      "metadata": {
        "id": "geI8KR1OIiAn",
        "colab_type": "code",
        "colab": {}
      },
      "source": [
        "import re\n",
        "data1 = 'My phone number is: 800-555-1212.'\n",
        "data2 = '800-555-1234 is my phone number.'\n",
        "\n",
        "pattern = re.compile(r'(\\d{3})-(\\d{3})-(\\d{4})')\n",
        "\n",
        "dmatch1 = pattern.search(data1).groups()\n",
        "dmatch2 = pattern.search(data2).groups()\n",
        "\n",
        "print dmatch1\n",
        "print dmatch2"
      ],
      "execution_count": null,
      "outputs": []
    },
    {
      "cell_type": "markdown",
      "metadata": {
        "id": "cYm9bg8bI2Ci",
        "colab_type": "text"
      },
      "source": [
        "SLIDE 37"
      ]
    },
    {
      "cell_type": "code",
      "metadata": {
        "id": "dWFVCmdFI2ya",
        "colab_type": "code",
        "colab": {}
      },
      "source": [
        "from sklearn.datasets import\n",
        "fetch_20newsgroups\n",
        "import sklearn.feature_extraction.text as text\n",
        "\n",
        "categories = ['comp.graphics',\n",
        "'misc.forsale',\n",
        "'rec.autos','sci.space']\n",
        "twenty_train =\n",
        "\n",
        "fetch_20newsgroups(subset='train',\n",
        "categorie\n",
        "s=categories,\n",
        "shuffle=True,\n",
        "random_state=42)\n",
        "\n",
        "count_vect = ext.CountVectorizer()\n",
        "X_train_counts = count_vect.fit_transform(\n",
        "twenty_train.data)\n",
        "\n",
        "print X_train_counts.shape"
      ],
      "execution_count": null,
      "outputs": []
    },
    {
      "cell_type": "markdown",
      "metadata": {
        "id": "6AF_riQqJQMw",
        "colab_type": "text"
      },
      "source": [
        "SLIDE 43"
      ]
    },
    {
      "cell_type": "code",
      "metadata": {
        "id": "W3pgO42TJQ_Y",
        "colab_type": "code",
        "colab": {}
      },
      "source": [
        "from sklearn.datasets import\n",
        "fetch_20newsgroups\n",
        "import sklearn.feature_extraction.text as\n",
        "ext\n",
        "\n",
        "categories = ['sci.space']\n",
        "\n",
        "twenty_train =\n",
        "fetch_20newsgroups(subset='train',\t\n",
        "categories=categories,\n",
        "remove=('headers','footers',\n",
        "'quotes'),\n",
        "shuffle=True,\n",
        "random_state=42)\n",
        "\n",
        "count_chars =\n",
        "ext.CountVectorizer(analyzer='char_wb',\n",
        "  ngram_range=(3,3),\n",
        "  max_features=10).fit(twenty_train['data'])\n",
        "count_words =\n",
        "ext.CountVectorizer(analyzer='word',\n",
        "  ngram_range=(2,2),\n",
        "  max_features=10,\n",
        "  stop_words='english').fit(twenty_t\n",
        "rain['data'])\n",
        "X =\n",
        "count_chars.transform(twenty_train.data)\n",
        "\n",
        "print count_words.get_feature_names()\n",
        "print X[1].todense()\n",
        "print count_words.get_feature_names()"
      ],
      "execution_count": null,
      "outputs": []
    },
    {
      "cell_type": "markdown",
      "metadata": {
        "id": "IkFH5ThVKfi6",
        "colab_type": "text"
      },
      "source": [
        "SLIDE 49"
      ]
    },
    {
      "cell_type": "code",
      "metadata": {
        "id": "AWTrMxZ3KgaL",
        "colab_type": "code",
        "colab": {}
      },
      "source": [
        "from sklearn.datasets import\n",
        "fetch_20newsgroups\n",
        "import sklearn.feature_extraction.text as\n",
        "ext\n",
        "\n",
        "categories = ['sci.space']\n",
        "\n",
        "twenty_train =\n",
        "fetch_20newsgroups(subset='train',\n",
        "  categories=categories,remove=('headers','footers','quotes'),\n",
        "shuffle=True,\n",
        "random_state=42)\n",
        "\n",
        "count_vect = ext.CountVectorizer()\n",
        "X_train_counts = count_vect.fit_transform(\n",
        "  twenty_train.data)\n",
        "tfidf =\n",
        "ext.TfidfTransformer().fit(X_train_counts)\n",
        "X_train_tfidf =\n",
        "tfidf.transform(X_train_counts)\n",
        "\n",
        "print X_train_tfidf.shape"
      ],
      "execution_count": null,
      "outputs": []
    },
    {
      "cell_type": "markdown",
      "metadata": {
        "id": "0D_e3im9LltW",
        "colab_type": "text"
      },
      "source": [
        "SLIDE 61"
      ]
    },
    {
      "cell_type": "code",
      "metadata": {
        "id": "mWb0q6WlLm4J",
        "colab_type": "code",
        "colab": {}
      },
      "source": [
        "import matplotlib.pyplot as plt\n",
        "nx.draw_networkx(G)\n",
        "plt.show()"
      ],
      "execution_count": null,
      "outputs": []
    }
  ]
}