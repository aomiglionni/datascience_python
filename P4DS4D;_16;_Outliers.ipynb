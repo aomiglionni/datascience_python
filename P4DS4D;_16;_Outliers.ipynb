{
  "nbformat": 4,
  "nbformat_minor": 0,
  "metadata": {
    "colab": {
      "name": "P4DS4D; 16; Outliers.ipynb",
      "provenance": [],
      "collapsed_sections": [],
      "authorship_tag": "ABX9TyOS1lJk/fw6GmUzGoGI0nWK",
      "include_colab_link": true
    },
    "kernelspec": {
      "name": "python3",
      "display_name": "Python 3"
    }
  },
  "cells": [
    {
      "cell_type": "markdown",
      "metadata": {
        "id": "view-in-github",
        "colab_type": "text"
      },
      "source": [
        "<a href=\"https://colab.research.google.com/github/aomiglionni/datascience_python/blob/master/P4DS4D%3B_16%3B_Outliers.ipynb\" target=\"_parent\"><img src=\"https://colab.research.google.com/assets/colab-badge.svg\" alt=\"Open In Colab\"/></a>"
      ]
    },
    {
      "cell_type": "markdown",
      "metadata": {
        "id": "2NIRG6qggxAo",
        "colab_type": "text"
      },
      "source": [
        "SLIDE 11"
      ]
    },
    {
      "cell_type": "code",
      "metadata": {
        "id": "g2k3f8Bigx3C",
        "colab_type": "code",
        "colab": {
          "base_uri": "https://localhost:8080/",
          "height": 34
        },
        "outputId": "0ce1cf89-b53c-4a6c-b244-b2ff72e1fa1f"
      },
      "source": [
        "import numpy as np\n",
        "from scipy.stats.stats import pearsonr\n",
        "np.random.seed(101)\n",
        "normal = np.random.normal(loc=0.0, scale= 1.0, size=1000)\n",
        "print ('Mean: %0.3f Median: %0.3f Variance: %0.3f' % (np.mean(normal),\n",
        "np.median(normal),\n",
        "np.var(normal)))"
      ],
      "execution_count": null,
      "outputs": [
        {
          "output_type": "stream",
          "text": [
            "Mean: 0.026 Median: 0.032 Variance: 1.109\n"
          ],
          "name": "stdout"
        }
      ]
    },
    {
      "cell_type": "markdown",
      "metadata": {
        "id": "YE71FsT3hjzK",
        "colab_type": "text"
      },
      "source": [
        "SLIDE 12"
      ]
    },
    {
      "cell_type": "code",
      "metadata": {
        "id": "wJcDdzUdhkc0",
        "colab_type": "code",
        "colab": {
          "base_uri": "https://localhost:8080/",
          "height": 51
        },
        "outputId": "fbc225ed-8a80-431e-e678-6bc5f6c9e1c6"
      },
      "source": [
        "outlying = normal.copy()\n",
        "outlying[0] = 50.0\n",
        "print ('Mean: %0.3f Median: %0.3f Variance: %0.3f' % (np.mean(outlying),\n",
        "np.median(outlying), np.var(outlying)))\n",
        "print ('Pearson''s correlation coefficient: %0.3f p-value: %0.3f' % pearsonr(\n",
        "normal,outlying))"
      ],
      "execution_count": null,
      "outputs": [
        {
          "output_type": "stream",
          "text": [
            "Mean: 0.074 Median: 0.032 Variance: 3.597\n",
            "Pearsons correlation coefficient: 0.619 p-value: 0.000\n"
          ],
          "name": "stdout"
        }
      ]
    },
    {
      "cell_type": "markdown",
      "metadata": {
        "id": "2AhMV39GicC-",
        "colab_type": "text"
      },
      "source": [
        "SLIDE 19"
      ]
    },
    {
      "cell_type": "code",
      "metadata": {
        "id": "Rwu8_laRicu3",
        "colab_type": "code",
        "colab": {}
      },
      "source": [
        "from sklearn.datasets import load_diabetes\n",
        "diabetes = load_diabetes()\n",
        "X,y = diabetes.data, diabetes.target"
      ],
      "execution_count": null,
      "outputs": []
    },
    {
      "cell_type": "markdown",
      "metadata": {
        "id": "WADLyrg5igW6",
        "colab_type": "text"
      },
      "source": [
        "SLIDE 20"
      ]
    },
    {
      "cell_type": "code",
      "metadata": {
        "id": "Xd6YkJcIihQB",
        "colab_type": "code",
        "colab": {
          "base_uri": "https://localhost:8080/",
          "height": 170
        },
        "outputId": "8efdc293-945f-49ed-f26c-16b356056008"
      },
      "source": [
        "import pandas as pd\n",
        "pd.options.display.float_format = '{:.2f}'.format\n",
        "df = pd.DataFrame(X)\n",
        "print (df.describe())"
      ],
      "execution_count": null,
      "outputs": [
        {
          "output_type": "stream",
          "text": [
            "           0      1      2      3      4      5      6      7      8      9\n",
            "count 442.00 442.00 442.00 442.00 442.00 442.00 442.00 442.00 442.00 442.00\n",
            "mean   -0.00   0.00  -0.00   0.00  -0.00   0.00  -0.00   0.00  -0.00  -0.00\n",
            "std     0.05   0.05   0.05   0.05   0.05   0.05   0.05   0.05   0.05   0.05\n",
            "min    -0.11  -0.04  -0.09  -0.11  -0.13  -0.12  -0.10  -0.08  -0.13  -0.14\n",
            "25%    -0.04  -0.04  -0.03  -0.04  -0.03  -0.03  -0.04  -0.04  -0.03  -0.03\n",
            "50%     0.01  -0.04  -0.01  -0.01  -0.00  -0.00  -0.01  -0.00  -0.00  -0.00\n",
            "75%     0.04   0.05   0.03   0.04   0.03   0.03   0.03   0.03   0.03   0.03\n",
            "max     0.11   0.05   0.17   0.13   0.15   0.20   0.18   0.19   0.13   0.14\n"
          ],
          "name": "stdout"
        }
      ]
    },
    {
      "cell_type": "markdown",
      "metadata": {
        "id": "D3KjanD4iysn",
        "colab_type": "text"
      },
      "source": [
        "SLIDE 24"
      ]
    },
    {
      "cell_type": "code",
      "metadata": {
        "id": "OLhEvI4fizYg",
        "colab_type": "code",
        "colab": {
          "base_uri": "https://localhost:8080/",
          "height": 238
        },
        "outputId": "056c2315-04c3-4ef7-9af3-3c42ab379b67"
      },
      "source": [
        "from sklearn.preprocessing import StandardScaler\n",
        "Xs = StandardScaler().fit_transform(X)\n",
        "o_idx = np.where(np.abs(Xs)>3)\n",
        "# .any(1) method will avoid duplicating\n",
        "print (df[(np.abs(Xs)>3).any(1)])"
      ],
      "execution_count": null,
      "outputs": [
        {
          "output_type": "stream",
          "text": [
            "        0     1     2     3     4     5     6     7     8     9\n",
            "58   0.04 -0.04 -0.06  0.04  0.01 -0.06  0.18 -0.08 -0.00 -0.05\n",
            "123  0.01  0.05  0.03 -0.00  0.15  0.20 -0.06  0.19  0.02  0.07\n",
            "216  0.01  0.05  0.04  0.05  0.05  0.07 -0.07  0.15  0.05  0.05\n",
            "230 -0.04  0.05  0.07 -0.06  0.15  0.16  0.00  0.07  0.05  0.07\n",
            "256 -0.05 -0.04  0.16 -0.05 -0.03 -0.02 -0.05  0.03  0.03  0.01\n",
            "260  0.04 -0.04 -0.01 -0.06  0.01 -0.03  0.15 -0.08 -0.08 -0.02\n",
            "261  0.05 -0.04 -0.04  0.10  0.04 -0.03  0.18 -0.08 -0.01  0.02\n",
            "269  0.01 -0.04 -0.03 -0.03  0.04 -0.01  0.16 -0.08 -0.01 -0.04\n",
            "322  0.02  0.05  0.06  0.06  0.02 -0.04 -0.09  0.16  0.13  0.08\n",
            "336 -0.02 -0.04  0.09 -0.04  0.09  0.09 -0.06  0.15  0.08  0.05\n",
            "367 -0.01  0.05  0.17  0.01  0.03  0.03 -0.02  0.03  0.03  0.03\n",
            "441 -0.05 -0.04 -0.07 -0.08  0.08  0.03  0.17 -0.04 -0.00  0.00\n"
          ],
          "name": "stdout"
        }
      ]
    },
    {
      "cell_type": "markdown",
      "metadata": {
        "id": "FgMDfxFkjHJz",
        "colab_type": "text"
      },
      "source": [
        "SLIDE 28"
      ]
    },
    {
      "cell_type": "code",
      "metadata": {
        "id": "tiO1CxwTjHzq",
        "colab_type": "code",
        "colab": {}
      },
      "source": [
        "from scipy.stats.mstats import winsorize\n",
        "Xs_w = winsorize(Xs, limits=(0.05, 0.95))"
      ],
      "execution_count": null,
      "outputs": []
    },
    {
      "cell_type": "markdown",
      "metadata": {
        "id": "pKntQGLyjV_T",
        "colab_type": "text"
      },
      "source": [
        "SLIDE 35"
      ]
    },
    {
      "cell_type": "code",
      "metadata": {
        "id": "veFcmghTjWnr",
        "colab_type": "code",
        "colab": {}
      },
      "source": [
        "from sklearn.decomposition import PCA\n",
        "from sklearn.preprocessing import scale\n",
        "from pandas.tools.plotting import scatter_matrix\n",
        "dim_reduction = PCA()\n",
        "Xc = dim_reduction.fit_transform(scale(X))\n",
        "print ('variance explained by the first 2 components: %0.1f%' % (sum(dim_reduction.explained_variance_ratio_[:2]*100)))\n",
        "print ('variance explained by the last 2 components: %0.1f%' % (sum(dim_reduction.explained_variance_ratio_[-2:]*100)))\n",
        "df = pd.DataFrame(Xc, columns= ['comp_'+str(j+1) for j in range(10)])\n",
        "first_two = df.plot(kind='scatter', x='comp_1', y='comp_2', c='DarkGray', s=50)\n",
        "last_two = df.plot(kind='scatter', x='comp_9', y='comp_10', c='DarkGray', s=50)"
      ],
      "execution_count": null,
      "outputs": []
    },
    {
      "cell_type": "markdown",
      "metadata": {
        "id": "P5OF1Du7kAt4",
        "colab_type": "text"
      },
      "source": [
        "SLIDE 40"
      ]
    },
    {
      "cell_type": "code",
      "metadata": {
        "id": "lRS7xXaekBWm",
        "colab_type": "code",
        "colab": {}
      },
      "source": [
        "from sklearn.cluster import DBSCAN\n",
        "DB = DBSCAN(eps=2.5, min_samples=25, random_state=101)\n",
        "DB.fit(Xc)\n",
        "\n",
        "from collections import Counter\n",
        "print (Counter(DB.labels_),'\\n')\n",
        "print (df[DB.labels_==-1])\n",
        "Counter({0: 414, -1: 28})"
      ],
      "execution_count": null,
      "outputs": []
    },
    {
      "cell_type": "markdown",
      "metadata": {
        "id": "GvpNGWJWkmOQ",
        "colab_type": "text"
      },
      "source": [
        "SLIDE 44"
      ]
    },
    {
      "cell_type": "code",
      "metadata": {
        "id": "1v6szygykmz3",
        "colab_type": "code",
        "colab": {}
      },
      "source": [
        "from sklearn import svm\n",
        "outliers_fraction = 0.01 #\n",
        "nu_estimate = 0.95 * outliers_fraction + 0.05\n",
        "auto_detection = svm.OneClassSVM(kernel=\"rbf\", gamma=0.01, degree=3, nu=nu_estimate) auto_detection.fit(Xc)\n",
        "evaluation = auto_detection.predict(Xc)\n",
        "print (df[evaluation==-1])"
      ],
      "execution_count": null,
      "outputs": []
    }
  ]
}