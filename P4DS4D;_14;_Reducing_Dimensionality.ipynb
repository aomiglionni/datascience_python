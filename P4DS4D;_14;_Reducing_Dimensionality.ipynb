{
  "nbformat": 4,
  "nbformat_minor": 0,
  "metadata": {
    "colab": {
      "name": "P4DS4D; 14; Reducing Dimensionality.ipynb",
      "provenance": [],
      "collapsed_sections": [],
      "authorship_tag": "ABX9TyPLWrrFjhsxWCsy8ge/pVsg",
      "include_colab_link": true
    },
    "kernelspec": {
      "name": "python3",
      "display_name": "Python 3"
    }
  },
  "cells": [
    {
      "cell_type": "markdown",
      "metadata": {
        "id": "view-in-github",
        "colab_type": "text"
      },
      "source": [
        "<a href=\"https://colab.research.google.com/github/aomiglionni/datascience_python/blob/master/P4DS4D%3B_14%3B_Reducing_Dimensionality.ipynb\" target=\"_parent\"><img src=\"https://colab.research.google.com/assets/colab-badge.svg\" alt=\"Open In Colab\"/></a>"
      ]
    },
    {
      "cell_type": "markdown",
      "metadata": {
        "id": "8-0s86wb4gb-",
        "colab_type": "text"
      },
      "source": [
        "SLIDE 17"
      ]
    },
    {
      "cell_type": "code",
      "metadata": {
        "id": "LtfU4EWj4ht8",
        "colab_type": "code",
        "colab": {
          "base_uri": "https://localhost:8080/",
          "height": 85
        },
        "outputId": "f09e86f7-e5bc-4bbb-b698-1ebc70a50ea4"
      },
      "source": [
        "import numpy as np\n",
        "M = np.array([[1, 3, 4], [2, 3, 5], [1, 2,\n",
        "3], [5, 4, 6]])\n",
        "print(M)\n"
      ],
      "execution_count": null,
      "outputs": [
        {
          "output_type": "stream",
          "text": [
            "[[1 3 4]\n",
            " [2 3 5]\n",
            " [1 2 3]\n",
            " [5 4 6]]\n"
          ],
          "name": "stdout"
        }
      ]
    },
    {
      "cell_type": "markdown",
      "metadata": {
        "id": "R47GyDZu4psn",
        "colab_type": "text"
      },
      "source": [
        "SLIDE 18"
      ]
    },
    {
      "cell_type": "code",
      "metadata": {
        "id": "McyK5m1X4qwx",
        "colab_type": "code",
        "colab": {
          "base_uri": "https://localhost:8080/",
          "height": 51
        },
        "outputId": "8853fa13-3825-4bf9-ff6f-770404274ffb"
      },
      "source": [
        "U, s, Vh = np.linalg.svd(M,\n",
        "full_matrices=False)\n",
        "print (np.shape(U),np.shape(s),np.shape(Vh))\n",
        "print (s)"
      ],
      "execution_count": null,
      "outputs": [
        {
          "output_type": "stream",
          "text": [
            "(4, 3) (3,) (3, 3)\n",
            "[12.26362747  2.11085464  0.38436189]\n"
          ],
          "name": "stdout"
        }
      ]
    },
    {
      "cell_type": "markdown",
      "metadata": {
        "id": "HxABLzvR437v",
        "colab_type": "text"
      },
      "source": [
        "SLIDE 22"
      ]
    },
    {
      "cell_type": "code",
      "metadata": {
        "id": "lYHjhi9t44zQ",
        "colab_type": "code",
        "colab": {
          "base_uri": "https://localhost:8080/",
          "height": 85
        },
        "outputId": "1b6f0298-2388-4751-8574-cdef67c4821c"
      },
      "source": [
        "print (np.dot(np.dot(U, np.diag(s)), Vh)) # Full matrix reconstruction"
      ],
      "execution_count": null,
      "outputs": [
        {
          "output_type": "stream",
          "text": [
            "[[1. 3. 4.]\n",
            " [2. 3. 5.]\n",
            " [1. 2. 3.]\n",
            " [5. 4. 6.]]\n"
          ],
          "name": "stdout"
        }
      ]
    },
    {
      "cell_type": "markdown",
      "metadata": {
        "id": "QzX2BVcS5BY9",
        "colab_type": "text"
      },
      "source": [
        "SLIDE 24"
      ]
    },
    {
      "cell_type": "code",
      "metadata": {
        "id": "iSUMh6zB5CD2",
        "colab_type": "code",
        "colab": {
          "base_uri": "https://localhost:8080/",
          "height": 85
        },
        "outputId": "a945584e-0bc5-477d-f4da-c408dc33c3d1"
      },
      "source": [
        "print (np.round(np.dot(np.dot(U[:,:2],\n",
        "np.diag(s[:2])), Vh[:2,:]),1)) # k=2 reconstruction"
      ],
      "execution_count": null,
      "outputs": [
        {
          "output_type": "stream",
          "text": [
            "[[1.  2.8 4.1]\n",
            " [2.  3.2 4.8]\n",
            " [1.  2.  3. ]\n",
            " [5.  3.9 6. ]]\n"
          ],
          "name": "stdout"
        }
      ]
    },
    {
      "cell_type": "markdown",
      "metadata": {
        "id": "UzsvEcMf5IK5",
        "colab_type": "text"
      },
      "source": [
        "SLIDE 25"
      ]
    },
    {
      "cell_type": "code",
      "metadata": {
        "id": "OZTfBG0k5JDR",
        "colab_type": "code",
        "colab": {
          "base_uri": "https://localhost:8080/",
          "height": 85
        },
        "outputId": "0ec5d436-9103-4b6b-86f7-a0e50ea16cb4"
      },
      "source": [
        "print (np.round(np.dot(np.dot(U[:,:1],\n",
        "np.diag(s[:1])), Vh[:1,:]),1)) # k=1 reconstruction"
      ],
      "execution_count": null,
      "outputs": [
        {
          "output_type": "stream",
          "text": [
            "[[2.1 2.5 3.7]\n",
            " [2.6 3.1 4.6]\n",
            " [1.6 1.8 2.8]\n",
            " [3.7 4.3 6.5]]\n"
          ],
          "name": "stdout"
        }
      ]
    },
    {
      "cell_type": "markdown",
      "metadata": {
        "id": "_a6HAgb45dim",
        "colab_type": "text"
      },
      "source": [
        "SLIDE 33"
      ]
    },
    {
      "cell_type": "code",
      "metadata": {
        "id": "FJwfu9KU5eI4",
        "colab_type": "code",
        "colab": {}
      },
      "source": [
        "from sklearn.datasets import load_iris\n",
        "from sklearn.decomposition import FactorAnalysis\n",
        "iris = load_iris()\n",
        "X, y = iris.data, iris.target\n",
        "factor = FactorAnalysis(n_components=4, random_state=101).fit(X)"
      ],
      "execution_count": null,
      "outputs": []
    },
    {
      "cell_type": "markdown",
      "metadata": {
        "id": "TSXo4vMC5vnq",
        "colab_type": "text"
      },
      "source": [
        "SLIDE 36"
      ]
    },
    {
      "cell_type": "code",
      "metadata": {
        "id": "uTNR39N25whL",
        "colab_type": "code",
        "colab": {}
      },
      "source": [
        "import pandas as pd\n",
        "print (pd.DataFrame(factor.components_,columns=ir\n",
        "is.feature_names))"
      ],
      "execution_count": null,
      "outputs": []
    },
    {
      "cell_type": "markdown",
      "metadata": {
        "id": "4em3Cq4w54jC",
        "colab_type": "text"
      },
      "source": [
        "SLIDE 40"
      ]
    },
    {
      "cell_type": "code",
      "metadata": {
        "id": "NCrptVeO55T4",
        "colab_type": "code",
        "colab": {
          "base_uri": "https://localhost:8080/",
          "height": 129
        },
        "outputId": "b886479e-b37f-40b7-a5c9-3d6ea203da9c"
      },
      "source": [
        "from sklearn.decomposition import PCA\n",
        "import pandas as pd\n",
        "pca = PCA().fit(X)\n",
        "print ('Explained variance by component:\n",
        "%s' % pca.explained_variance_ratio_)\n",
        "print pd.DataFrame(pca.components_,columns=iris.\n",
        "feature_names))"
      ],
      "execution_count": null,
      "outputs": [
        {
          "output_type": "error",
          "ename": "SyntaxError",
          "evalue": "ignored",
          "traceback": [
            "\u001b[0;36m  File \u001b[0;32m\"<ipython-input-10-b67c2e0455c3>\"\u001b[0;36m, line \u001b[0;32m4\u001b[0m\n\u001b[0;31m    print ('Explained variance by component:\u001b[0m\n\u001b[0m                                            ^\u001b[0m\n\u001b[0;31mSyntaxError\u001b[0m\u001b[0;31m:\u001b[0m EOL while scanning string literal\n"
          ]
        }
      ]
    },
    {
      "cell_type": "markdown",
      "metadata": {
        "id": "ZeFpmlRH7LLF",
        "colab_type": "text"
      },
      "source": [
        "SLIDE 45"
      ]
    },
    {
      "cell_type": "code",
      "metadata": {
        "id": "et0iZ0xa7L9N",
        "colab_type": "code",
        "colab": {}
      },
      "source": [
        "from sklearn.datasets import\n",
        "fetch_olivetti_faces\n",
        "dataset =\n",
        "fetch_olivetti_faces(shuffle=True,\n",
        "random_state=101)\n",
        "train_faces = dataset.data[:350,:]\n",
        "test_faces = dataset.data[350:,:]\n",
        "train_answers = dataset.target[:350]\n",
        "test_answers = dataset.target[350:]"
      ],
      "execution_count": null,
      "outputs": []
    },
    {
      "cell_type": "markdown",
      "metadata": {
        "id": "W9YZjYBp7TcR",
        "colab_type": "text"
      },
      "source": [
        "SLIDE 48"
      ]
    },
    {
      "cell_type": "code",
      "metadata": {
        "id": "RnaD7c387UfQ",
        "colab_type": "code",
        "colab": {}
      },
      "source": [
        "from sklearn.decomposition import\n",
        "RandomizedPCA\n",
        "n_components = 25\n",
        "Rpca =\n",
        "RandomizedPCA(n_components=n_components,\n",
        "whiten=True,\n",
        "random_state=101).fit(train_faces)\n",
        "print 'Explained variance by %i\n",
        "components: %0.3f' % (n_components,\n",
        "np.sum(Rpca.explained_variance_rati\n",
        "o_))\n",
        "compressed_train_faces =\n",
        "Rpca.transform(train_faces)\n",
        "compressed_test_faces =\n",
        "Rpca.transform(test_faces)"
      ],
      "execution_count": null,
      "outputs": []
    },
    {
      "cell_type": "markdown",
      "metadata": {
        "id": "b2a424sb7lz_",
        "colab_type": "text"
      },
      "source": [
        "SLIDE 50"
      ]
    },
    {
      "cell_type": "code",
      "metadata": {
        "id": "o289MaVo7msD",
        "colab_type": "code",
        "colab": {}
      },
      "source": [
        "import matplotlib.pyplot as plt\n",
        "photo = 17 \n",
        "# This is the photo in the test set we want to know about\n",
        "print 'We are looking for face id=%i' \n",
        "%test_answers[photo]\n",
        "plt.subplot(1, 2, 1)\n",
        "plt.axis('off')\n",
        "plt.title('Unknown face '+str(photo)+' in test set')\n",
        "plt.imshow(test_faces[photo].reshape(64,64), cmap=plt.cm.gray,\n",
        "interpolation='nearest')"
      ],
      "execution_count": null,
      "outputs": []
    },
    {
      "cell_type": "markdown",
      "metadata": {
        "id": "9hJ8R-lmbDBM",
        "colab_type": "text"
      },
      "source": [
        "SLIDE 53"
      ]
    },
    {
      "cell_type": "code",
      "metadata": {
        "id": "2zBuCOMVbD0l",
        "colab_type": "code",
        "colab": {}
      },
      "source": [
        "mask = compressed_test_faces[photo,] #Just the vector of value components of our photo\n",
        "squared_errors = np.sum((compressed_train_faces -mask)**2,axis=1)\n",
        "minimum_error_face = argmin(squared_errors)\n",
        "most_resembling = list(np.where(squared_errors < 20)[0])\n",
        "print ('Best resembling face in train test: %i' % train_answers[minimum_error_face])"
      ],
      "execution_count": null,
      "outputs": []
    },
    {
      "cell_type": "markdown",
      "metadata": {
        "id": "v1VMgOfZbht-",
        "colab_type": "text"
      },
      "source": [
        "SLIDE 54"
      ]
    },
    {
      "cell_type": "code",
      "metadata": {
        "id": "y-Isu3ZVbiU8",
        "colab_type": "code",
        "colab": {}
      },
      "source": [
        "import matplotlib.pyplot as plt\n",
        "plt.subplot(2, 2, 1)\n",
        "plt.axis('off')\n",
        "plt.title('Unknown face '+str(photo)+' in test set')\n",
        "plt.imshow(test_faces[photo].reshape(64,64), cmap=plt.cm.gray,\n",
        "interpolation='nearest')\n",
        "for k,m in enumerate(most_resembling[:3]):\n",
        "  plt.subplot(2, 2, 2+k)\n",
        "  plt.title('Match in train set no.'+str(m))\n",
        "plt.axis('off')\n",
        "plt.imshow(train_faces[m].reshape(64,64), cmap=plt.cm.gray,interpolation='nearest')\n",
        "\n",
        "plt.show()"
      ],
      "execution_count": null,
      "outputs": []
    },
    {
      "cell_type": "markdown",
      "metadata": {
        "id": "6ObTjvs6b6L2",
        "colab_type": "text"
      },
      "source": [
        "SLIDE 59"
      ]
    },
    {
      "cell_type": "code",
      "metadata": {
        "id": "oKBfpCPQb7BW",
        "colab_type": "code",
        "colab": {}
      },
      "source": [
        "from sklearn.datasets import fetch_20newsgroups\n",
        "dataset = fetch_20newsgroups(shuffle=True,\n",
        "categories = ['misc.forsale'],\n",
        "remove=('headers','footers','quotes'), random_state=101)\n",
        "print ('Posts: %i' % len(dataset.data))"
      ],
      "execution_count": null,
      "outputs": []
    },
    {
      "cell_type": "markdown",
      "metadata": {
        "id": "VugSwuiqcLsU",
        "colab_type": "text"
      },
      "source": [
        "SLIDE 61"
      ]
    },
    {
      "cell_type": "code",
      "metadata": {
        "id": "bwQW9SyFcMnu",
        "colab_type": "code",
        "colab": {}
      },
      "source": [
        "from sklearn.feature_extraction.text\n",
        "import TfidfVectorizer\n",
        "vectorizer = TfidfVectorizer(max_df=0.95, min_df=2, stop_words='english')\n",
        "tfidf = vectorizer.fit_transform(dataset.data)\n",
        "\n",
        "from sklearn.decomposition import NMF\n",
        "n_topics = 5\n",
        "nmf = NMF(n_components=n_topics,\n",
        "random_state=101).fit(tfidf)"
      ],
      "execution_count": null,
      "outputs": []
    },
    {
      "cell_type": "markdown",
      "metadata": {
        "id": "NDEKTr1RcllC",
        "colab_type": "text"
      },
      "source": [
        "SLIDE 64"
      ]
    },
    {
      "cell_type": "code",
      "metadata": {
        "id": "Bd1FcMOGcmc4",
        "colab_type": "code",
        "colab": {}
      },
      "source": [
        "feature_names = vectorizer.get_feature_names()\n",
        "n_top_words = 15\n",
        "for topic_idx, topic in\n",
        "  enumerate(nmf.components_):\n",
        "  print (\"Topic #%d:\" % (topic_idx+1)),\n",
        "  print (\" \".join([feature_names[i]))\n",
        "  for i in topic.argsort()\n",
        "    [:-n_top_words - 1:-1]])"
      ],
      "execution_count": null,
      "outputs": []
    },
    {
      "cell_type": "markdown",
      "metadata": {
        "id": "qP3CGjlvdKel",
        "colab_type": "text"
      },
      "source": [
        "SLIDE 66"
      ]
    },
    {
      "cell_type": "code",
      "metadata": {
        "id": "1bOWi6nWdLHn",
        "colab_type": "code",
        "colab": {}
      },
      "source": [
        "print (nmf.components_[0,:].argsort()[:- n_top_words-1:-1] # Gets top words for\n",
        "topic 0\n",
        "[1337 1749 889 1572 2342 2263 2803 1290\n",
        "2353 3615 3017 806 1022 1938 2334]\n",
        "\n",
        "print (vectorizer.get_feature_names()[1337])\n",
        "# transform indexes into words drive"
      ],
      "execution_count": null,
      "outputs": []
    },
    {
      "cell_type": "markdown",
      "metadata": {
        "id": "DDWkRaI9dhbA",
        "colab_type": "text"
      },
      "source": [
        "SLIDE 70"
      ]
    },
    {
      "cell_type": "code",
      "metadata": {
        "id": "zvcG7Z-ndiZK",
        "colab_type": "code",
        "colab": {}
      },
      "source": [
        "import pandas as pd\n",
        "from scipy.sparse import csr_matrix\n",
        "users = pd.read_table('ml-1m/users.dat',sep='::', header=None, names=['user_id', 'gender','age','occupation','zip'])\n",
        "ratings = pd.read_table('ml1m/ratings.dat', sep='::', header=None,\n",
        "names=['user_id', 'movie_id’,'rating','timestamp'])\n",
        "movies = pd.read_table('ml-1m/movies.dat',\n",
        "sep='::', header=None, names=['movie_id','title','genres'])\n",
        "MovieLens = pd.merge(pd.merge(ratings,users), movies)"
      ],
      "execution_count": null,
      "outputs": []
    },
    {
      "cell_type": "markdown",
      "metadata": {
        "id": "qAArMecGdyUs",
        "colab_type": "text"
      },
      "source": [
        "SLIDE 71"
      ]
    },
    {
      "cell_type": "code",
      "metadata": {
        "id": "MJqkG235dzMG",
        "colab_type": "code",
        "colab": {}
      },
      "source": [
        "ratings_mtx_df =\n",
        "MovieLens.pivot_table(values='rating',\n",
        "rows='user_id', cols='title',\n",
        "fill_value=0)\n",
        "movie_index = ratings_mtx_df.columns"
      ],
      "execution_count": null,
      "outputs": []
    },
    {
      "cell_type": "markdown",
      "metadata": {
        "id": "BXfqheDgd1kJ",
        "colab_type": "text"
      },
      "source": [
        "SLIDE 72"
      ]
    },
    {
      "cell_type": "code",
      "metadata": {
        "id": "Ce8PQKVvd2Xn",
        "colab_type": "code",
        "colab": {}
      },
      "source": [
        "from sklearn.decomposition import TruncatedSVD\n",
        "recom = TruncatedSVD(n_components=10, random_state=101)\n",
        "R = recom.fit_transform(ratings_mtx_df.values.T)"
      ],
      "execution_count": null,
      "outputs": []
    },
    {
      "cell_type": "markdown",
      "metadata": {
        "id": "DSAkU_s-ePoX",
        "colab_type": "text"
      },
      "source": [
        "SLIDE 73"
      ]
    },
    {
      "cell_type": "code",
      "metadata": {
        "id": "aWzdJoHgeQYk",
        "colab_type": "code",
        "colab": {}
      },
      "source": [
        "import numpy as np\n",
        "correlation_matrix = np.corrcoef(R)\n",
        "P = correlation_matrix[favoured_movie_idx]\n",
        "print (list(movie_index[(P > 0.98) & (P < 1.0)]))"
      ],
      "execution_count": null,
      "outputs": []
    }
  ]
}