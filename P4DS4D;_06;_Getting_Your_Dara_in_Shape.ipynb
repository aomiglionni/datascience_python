{
  "nbformat": 4,
  "nbformat_minor": 0,
  "metadata": {
    "colab": {
      "name": "P4DS4D; 06; Getting Your Dara in Shape.ipynb",
      "provenance": [],
      "authorship_tag": "ABX9TyPR/ssqKF/JIIJVHv1wn+EJ",
      "include_colab_link": true
    },
    "kernelspec": {
      "name": "python3",
      "display_name": "Python 3"
    }
  },
  "cells": [
    {
      "cell_type": "markdown",
      "metadata": {
        "id": "view-in-github",
        "colab_type": "text"
      },
      "source": [
        "<a href=\"https://colab.research.google.com/github/aomiglionni/datascience_python/blob/master/P4DS4D%3B_06%3B_Getting_Your_Dara_in_Shape.ipynb\" target=\"_parent\"><img src=\"https://colab.research.google.com/assets/colab-badge.svg\" alt=\"Open In Colab\"/></a>"
      ]
    },
    {
      "cell_type": "code",
      "metadata": {
        "id": "qjGVhvO8-kfn",
        "colab_type": "code",
        "colab": {}
      },
      "source": [
        ""
      ],
      "execution_count": null,
      "outputs": []
    },
    {
      "cell_type": "markdown",
      "metadata": {
        "id": "pM5_BGPGGDhl",
        "colab_type": "text"
      },
      "source": [
        "SLIDE 29"
      ]
    },
    {
      "cell_type": "code",
      "metadata": {
        "id": "ybqqFcW5GEVS",
        "colab_type": "code",
        "colab": {}
      },
      "source": [
        "from lxml import objectify\n",
        "import pandas as pd\n",
        "\n",
        "xml =\n",
        "objectify.parse(open('XMLData2.xml'))\n",
        "root = xml.getroot()\n",
        "df = pd.DataFrame(columns=('Number',\n",
        "'String','Boolean'))\n",
        "\n",
        "for i in range(0,4):\n",
        "  obj = root.getchildren()\n",
        "[i].getchildren()\n",
        "row = dict(zip(['Number','String',\n",
        "'Boolean'], [obj[0].text, obj[1].text,\n",
        "obj[2].text]))\n",
        "  row_s = pd.Series(row)\n",
        "  row_s.name = i\n",
        "  df = df.append(row_s)\n",
        "search = pd.DataFrame.duplicated(df)\n",
        "\n",
        "print df\n",
        "print\n",
        "print search[search == True]"
      ],
      "execution_count": null,
      "outputs": []
    },
    {
      "cell_type": "markdown",
      "metadata": {
        "id": "PcR4sWiSGgLA",
        "colab_type": "text"
      },
      "source": [
        "SLIDE 34"
      ]
    },
    {
      "cell_type": "code",
      "metadata": {
        "id": "oWaPnQTFGhDS",
        "colab_type": "code",
        "colab": {}
      },
      "source": [
        "from lxml import objectify\n",
        "import pandas as pd\n",
        "\n",
        "xml =\n",
        "objectify.parse(open('XMLData2.xml'))\n",
        "root = xml.getroot()\n",
        "df = pd.DataFrame(columns=('Number',\n",
        "'String','Boolean'))\n",
        "\n",
        "for i in range(0,4):\n",
        "  obj = root.getchildren()\n",
        "[i].getchildren()\n",
        "  row = dict(zip(['Number','String',\n",
        "'Boolean'], [obj[0].text, obj[1].text,\n",
        "obj[2].text]))\n",
        "  row_s = pd.Series(row)\n",
        "  row_s.name = i\n",
        "  df = df.append(row_s)\n",
        "print df.drop_duplicates()"
      ],
      "execution_count": null,
      "outputs": []
    },
    {
      "cell_type": "markdown",
      "metadata": {
        "id": "nhuXDRrOGurp",
        "colab_type": "text"
      },
      "source": [
        "SLIDE 39"
      ]
    },
    {
      "cell_type": "code",
      "metadata": {
        "id": "tPszDEdbGvek",
        "colab_type": "code",
        "colab": {}
      },
      "source": [
        "import pandas as pd\n",
        "\n",
        "df = pd.DataFrame({'A': [0,0,0,0,0,1,1],\n",
        "          'B': [1,2,3,5,4,2,5],\n",
        "          'C': [5,3,4,1,1,2,3]})\n",
        "a_group_desc = df.groupby('A').describe()\n",
        "print a_group_desc"
      ],
      "execution_count": null,
      "outputs": []
    },
    {
      "cell_type": "markdown",
      "metadata": {
        "id": "0TyxUuNuH5US",
        "colab_type": "text"
      },
      "source": [
        "SLIDE 52"
      ]
    },
    {
      "cell_type": "code",
      "metadata": {
        "id": "kOkmOl-fH6CR",
        "colab_type": "code",
        "colab": {}
      },
      "source": [
        "import pandas as pd\n",
        "car_colors = pd.Series(['Blue','Red',\n",
        "'Green'], dtype='category')\n",
        "\n",
        "car_data = pd.Series(\n",
        "pd.Categorical(['Yellow','Green','Red',\n",
        "'Blue','Purple'],\n",
        "categories=car_colors, ordered=False))\n",
        "\n",
        "find_entries = pd.isnull(car_data)\n",
        "\n",
        "print car_colors\n",
        "print\n",
        "print car_data\n",
        "print\n",
        "print find_entries[find_entries == True]"
      ],
      "execution_count": null,
      "outputs": []
    },
    {
      "cell_type": "markdown",
      "metadata": {
        "id": "YAquF2jMIBge",
        "colab_type": "text"
      },
      "source": [
        "SLIDE 58"
      ]
    },
    {
      "cell_type": "code",
      "metadata": {
        "id": "gKlAmhrsICOd",
        "colab_type": "code",
        "colab": {}
      },
      "source": [
        "import pandas as pd\n",
        "\n",
        "car_colors = pd.Series(['Blue','Red',\n",
        "'Green'],\n",
        "                    dtype='category')\n",
        "car_data = pd.Series(\n",
        "  pd.Categorical(\n",
        "  ['Blue','Green','Red','Blue',\n",
        "'Red'],\n",
        "  categories=car_colors, ordered=False))\n",
        "\n",
        "car_colors.cat.categories = [\"Purple\",\n",
        "\"Yellow\",\"Mauve\"]\n",
        "car_data.cat.categories = car_colors\n",
        "\n",
        "print car_data"
      ],
      "execution_count": null,
      "outputs": []
    },
    {
      "cell_type": "markdown",
      "metadata": {
        "id": "mFojNmcZIO8r",
        "colab_type": "text"
      },
      "source": [
        "SLIDE 61"
      ]
    },
    {
      "cell_type": "code",
      "metadata": {
        "id": "xZ-VGEghIPs8",
        "colab_type": "code",
        "colab": {}
      },
      "source": [
        "import pandas as pd\n",
        "car_colors = pd.Series(['Blue','Red',\n",
        "'Green'],\n",
        "                    dtype='category')\n",
        "car_data = pd.Series(\n",
        "pd.Categorical(\n",
        "            ['Blue','Green','Red',\n",
        "'Green','Red','Green'],\n",
        "            categories=car_colors,\n",
        "ordered=False))\n",
        "car_data.cat.categories = [\"Blue_Red\",\n",
        "\"Red\",\"Green\"]\n",
        "print car_data.ix[car_data.isin(['Red'])]\n",
        "\n",
        "car_data.ix[car_data.isin(['Red'])] =\n",
        "'Blue_Red'\n",
        "\n",
        "print\n",
        "print car_data"
      ],
      "execution_count": null,
      "outputs": []
    },
    {
      "cell_type": "markdown",
      "metadata": {
        "id": "vfhfoxv4IrYK",
        "colab_type": "text"
      },
      "source": [
        "SLIDE 69"
      ]
    },
    {
      "cell_type": "code",
      "metadata": {
        "id": "5GI0MhZTIsNz",
        "colab_type": "code",
        "colab": {}
      },
      "source": [
        "import datetime as dt\n",
        "\n",
        "now = dt.datetime.now()\n",
        "\n",
        "print str(now)\n",
        "print now.strftime('%a, %d %B %Y')"
      ],
      "execution_count": null,
      "outputs": []
    },
    {
      "cell_type": "markdown",
      "metadata": {
        "id": "O8UUvImlI0dQ",
        "colab_type": "text"
      },
      "source": [
        "SLIDE 72"
      ]
    },
    {
      "cell_type": "code",
      "metadata": {
        "id": "CSVT_OkbI1O_",
        "colab_type": "code",
        "colab": {}
      },
      "source": [
        "import datetime as dt\n",
        "\n",
        "now = dt.datetime.now()\n",
        "timevalue = now + dt.timedelta(hours=2)\n",
        "\n",
        "print now.strftime('%H:%M:%S')\n",
        "print timevalue.strftime('%H:%M:%S')\n",
        "print timevalue - now"
      ],
      "execution_count": null,
      "outputs": []
    },
    {
      "cell_type": "markdown",
      "metadata": {
        "id": "FhEIh8obI-7E",
        "colab_type": "text"
      },
      "source": [
        "SLIDE 77"
      ]
    },
    {
      "cell_type": "code",
      "metadata": {
        "id": "2CkQVwXoI_nO",
        "colab_type": "code",
        "colab": {}
      },
      "source": [
        "import pandas as pd\n",
        "import numpy as np\n",
        "s = pd.Series([1, 2, 3, np.NaN, 5, 6,\n",
        "None])\n",
        "\n",
        "print s.isnull()\n",
        "\n",
        "print\n",
        "print s[s.isnull()]"
      ],
      "execution_count": null,
      "outputs": []
    },
    {
      "cell_type": "markdown",
      "metadata": {
        "id": "9bRyEH5ZJEJF",
        "colab_type": "text"
      },
      "source": [
        "SLIDE 81"
      ]
    },
    {
      "cell_type": "code",
      "metadata": {
        "id": "1z_4P-ebJFL-",
        "colab_type": "code",
        "colab": {}
      },
      "source": [
        "import pandas as pd\n",
        "import numpy as np\n",
        "\n",
        "s = pd.Series([1, 2, 3, np.NaN, 5, 6,\n",
        "None])\n",
        "\n",
        "print s.fillna(int(s.mean()))\n",
        "print\n",
        "print s.dropna()"
      ],
      "execution_count": null,
      "outputs": []
    },
    {
      "cell_type": "markdown",
      "metadata": {
        "id": "kkNV-XjIJP7e",
        "colab_type": "text"
      },
      "source": [
        "SLIDE 86"
      ]
    },
    {
      "cell_type": "code",
      "metadata": {
        "id": "mqAP9t_0JREH",
        "colab_type": "code",
        "colab": {}
      },
      "source": [
        "import pandas as pd\n",
        "import numpy as np\n",
        "\n",
        "from sklearn.preprocessing import Imputer\n",
        "s = pd.Series([1, 2, 3, np.NaN, 5, 6,\n",
        "None])\n",
        "\n",
        "imp = Imputer(missing_values='NaN',\n",
        "strategy='mean', axis=0)\n",
        "imp.fit([1, 2, 3, 4, 5, 6, 7])\n",
        "\n",
        "x = pd.Series(imp.transform(s).tolist()\n",
        "[0])\n",
        "\n",
        "print x"
      ],
      "execution_count": null,
      "outputs": []
    },
    {
      "cell_type": "markdown",
      "metadata": {
        "id": "HfW9UxiOKwty",
        "colab_type": "text"
      },
      "source": [
        "SLIDE 96"
      ]
    },
    {
      "cell_type": "code",
      "metadata": {
        "id": "d5WPeP-RKxgK",
        "colab_type": "code",
        "colab": {}
      },
      "source": [
        "x = np.array([[[1, 2, 3], [4, 5, 6], [7,\n",
        "8, 9],],\n",
        "          [[11,12,13], [14,15,16],\n",
        "[17,18,19],],\n",
        "          [[21,22,23], [24,25,26],\n",
        "[27,28,29]]])\n",
        "\n",
        "print x[1,1]\n",
        "print x[:,1,1]\n",
        "print x[1,:,1]\n",
        "print\n",
        "print x[1:2, 1:2]\n"
      ],
      "execution_count": null,
      "outputs": []
    },
    {
      "cell_type": "markdown",
      "metadata": {
        "id": "_UHfiE5IK-xC",
        "colab_type": "text"
      },
      "source": [
        "SLIDE 99"
      ]
    },
    {
      "cell_type": "code",
      "metadata": {
        "id": "HANKR1p-K_aC",
        "colab_type": "code",
        "colab": {}
      },
      "source": [
        "import pandas as pd\n",
        "\n",
        "df = pd.DataFrame({'A': [2,3,1],\n",
        "    'B': [1,2,3],\n",
        "    'C': [5,3,4]})\n",
        "df1 = pd.DataFrame({'A': [4],\n",
        "    'B': [4],\n",
        "    'C': [4]})\n",
        "df = df.append(df1)\n",
        "df = df.reset_index(drop=True)\n",
        "print df\n",
        "df.loc[df.last_valid_index() + 1] = [5, 5,\n",
        "5]\n",
        "print\n",
        "print df\n",
        "\n",
        "df2 = pd.DataFrame({'D': [1, 2, 3, 4, 5]})\n",
        "\n",
        "df = pd.DataFrame.join(df, df2)\n",
        "print\n",
        "print df"
      ],
      "execution_count": null,
      "outputs": []
    },
    {
      "cell_type": "markdown",
      "metadata": {
        "id": "kek3ESbbLs3S",
        "colab_type": "text"
      },
      "source": [
        "SLIDE 105"
      ]
    },
    {
      "cell_type": "code",
      "metadata": {
        "id": "sNSQyS88LtpL",
        "colab_type": "code",
        "colab": {}
      },
      "source": [
        "import pandas as pd\n",
        "\n",
        "df = pd.DataFrame({'A': [2,3,1],\n",
        "    'B': [1,2,3],\n",
        "    'C': [5,3,4]})\n",
        "df = df.drop(df.index[[1]])\n",
        "print df\n",
        "\n",
        "df = df.drop('B', 1)\n",
        "print\n",
        "print df"
      ],
      "execution_count": null,
      "outputs": []
    },
    {
      "cell_type": "markdown",
      "metadata": {
        "id": "y2hVUAeRLzHX",
        "colab_type": "text"
      },
      "source": [
        "SLIDE 109"
      ]
    },
    {
      "cell_type": "code",
      "metadata": {
        "id": "4_J3Ndb1L0Oq",
        "colab_type": "code",
        "colab": {}
      },
      "source": [
        "import pandas as pd\n",
        "import numpy as np\n",
        "\n",
        "df = pd.DataFrame({'A': [2,1,2,3,3,5,4],\n",
        "    'B': [1,2,3,5,4,2,5],\n",
        "    'C': [5,3,4,1,1,2,3]})\n",
        "df = df.sort_index(by=['A','B'],\n",
        "ascending=[True, True])\n",
        "df = df.reset_index(drop=True)\n",
        "print df\n",
        "\n",
        "index = df.index.tolist()\n",
        "np.random.shuffle(index)\n",
        "df = df.ix[index]\n",
        "df = df.reset_index(drop=True)\n",
        "print\n",
        "print df"
      ],
      "execution_count": null,
      "outputs": []
    },
    {
      "cell_type": "markdown",
      "metadata": {
        "id": "v4yr_dBbL5yy",
        "colab_type": "text"
      },
      "source": [
        "SLIDE 116"
      ]
    },
    {
      "cell_type": "code",
      "metadata": {
        "id": "pFk9j4ksL6fE",
        "colab_type": "code",
        "colab": {}
      },
      "source": [
        "import pandas as pd\n",
        "\n",
        "df = pd.DataFrame({'Map': [0,0,0,1,1,2,2],\n",
        "          'Values':\n",
        "[1,2,3,5,4,2,5]})\n",
        "df['S'] = df.groupby('Map')\n",
        "['Values'].transform(np.sum)\n",
        "df['M'] = df.groupby('Map')\n",
        "['Values'].transform(np.mean)\n",
        "df['V'] = df.groupby('Map')\n",
        "['Values'].transform(np.var)\n",
        "\n",
        "print df"
      ],
      "execution_count": null,
      "outputs": []
    }
  ]
}